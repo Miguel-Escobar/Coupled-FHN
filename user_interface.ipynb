{
 "cells": [
  {
   "cell_type": "markdown",
   "metadata": {},
   "source": [
    "# Simulating a FHN network."
   ]
  },
  {
   "cell_type": "markdown",
   "metadata": {},
   "source": [
    "## Set parameters and define the network"
   ]
  },
  {
   "cell_type": "code",
   "execution_count": 1,
   "metadata": {},
   "outputs": [
    {
     "ename": "LoadError",
     "evalue": "LoadError: InterruptException:\nin expression starting at /Users/miguel/Documents/GitHub/Coupled-FHN/src/network_simulation.jl:1",
     "output_type": "error",
     "traceback": [
      "LoadError: InterruptException:\n",
      "in expression starting at /Users/miguel/Documents/GitHub/Coupled-FHN/src/network_simulation.jl:1\n",
      "\n",
      "Stacktrace:\n",
      "  [1] _include_from_serialized(pkg::Base.PkgId, path::String, ocachepath::String, depmods::Vector{Any})\n",
      "    @ Base ./loading.jl:1052\n",
      "  [2] _tryrequire_from_serialized(modkey::Base.PkgId, path::String, ocachepath::String, sourcepath::String, depmods::Vector{Any})\n",
      "    @ Base ./loading.jl:1475\n",
      "  [3] _require_search_from_serialized(pkg::Base.PkgId, sourcepath::String, build_id::UInt128)\n",
      "    @ Base ./loading.jl:1568\n",
      "  [4] _require(pkg::Base.PkgId, env::String)\n",
      "    @ Base ./loading.jl:1932\n",
      "  [5] __require_prelocked(uuidkey::Base.PkgId, env::String)\n",
      "    @ Base ./loading.jl:1806\n",
      "  [6] #invoke_in_world#3\n",
      "    @ Base ./essentials.jl:921 [inlined]\n",
      "  [7] invoke_in_world\n",
      "    @ Base ./essentials.jl:918 [inlined]\n",
      "  [8] _require_prelocked(uuidkey::Base.PkgId, env::String)\n",
      "    @ Base ./loading.jl:1797\n",
      "  [9] macro expansion\n",
      "    @ Base ./loading.jl:1784 [inlined]\n",
      " [10] macro expansion\n",
      "    @ Base ./lock.jl:267 [inlined]\n",
      " [11] __require(into::Module, mod::Symbol)\n",
      "    @ Base ./loading.jl:1747\n",
      " [12] #invoke_in_world#3\n",
      "    @ Base ./essentials.jl:921 [inlined]\n",
      " [13] invoke_in_world\n",
      "    @ Base ./essentials.jl:918 [inlined]\n",
      " [14] require(into::Module, mod::Symbol)\n",
      "    @ Base ./loading.jl:1740\n",
      " [15] include(fname::String)\n",
      "    @ Base.MainInclude ./client.jl:489\n",
      " [16] eval\n",
      "    @ ./boot.jl:385 [inlined]\n",
      " [17] include_string(mapexpr::typeof(REPL.softscope), mod::Module, code::String, filename::String)\n",
      "    @ Base ./loading.jl:2070\n",
      " [18] #invokelatest#2\n",
      "    @ ./essentials.jl:887 [inlined]\n",
      " [19] invokelatest\n",
      "    @ ./essentials.jl:884 [inlined]\n",
      " [20] (::VSCodeServer.var\"#208#209\"{VSCodeServer.NotebookRunCellArguments, String})()\n",
      "    @ VSCodeServer ~/.vscode-insiders/extensions/julialang.language-julia-1.66.2/scripts/packages/VSCodeServer/src/serve_notebook.jl:19\n",
      " [21] withpath(f::VSCodeServer.var\"#208#209\"{VSCodeServer.NotebookRunCellArguments, String}, path::String)\n",
      "    @ VSCodeServer ~/.vscode-insiders/extensions/julialang.language-julia-1.66.2/scripts/packages/VSCodeServer/src/repl.jl:274\n",
      " [22] notebook_runcell_request(conn::VSCodeServer.JSONRPC.JSONRPCEndpoint{Base.PipeEndpoint, Base.PipeEndpoint}, params::VSCodeServer.NotebookRunCellArguments)\n",
      "    @ VSCodeServer ~/.vscode-insiders/extensions/julialang.language-julia-1.66.2/scripts/packages/VSCodeServer/src/serve_notebook.jl:13\n",
      " [23] dispatch_msg(x::VSCodeServer.JSONRPC.JSONRPCEndpoint{Base.PipeEndpoint, Base.PipeEndpoint}, dispatcher::VSCodeServer.JSONRPC.MsgDispatcher, msg::Dict{String, Any})\n",
      "    @ VSCodeServer.JSONRPC ~/.vscode-insiders/extensions/julialang.language-julia-1.66.2/scripts/packages/JSONRPC/src/typed.jl:67\n",
      " [24] serve_notebook(pipename::String, outputchannel_logger::Base.CoreLogging.SimpleLogger; crashreporting_pipename::String)\n",
      "    @ VSCodeServer ~/.vscode-insiders/extensions/julialang.language-julia-1.66.2/scripts/packages/VSCodeServer/src/serve_notebook.jl:139\n",
      " [25] top-level scope\n",
      "    @ ~/.vscode-insiders/extensions/julialang.language-julia-1.66.2/scripts/notebook/notebook.jl:32"
     ]
    }
   ],
   "source": [
    "include(\"src/network_matrices_creation.jl\")\n",
    "include(\"src/network_simulation.jl\")\n",
    "using Random\n",
    "N = 90\n",
    "eps = 0.05\n",
    "a = 0.5\n",
    "b = -bmatrix(pi/2-0.1, eps)\n",
    "σ = 0.0506\n",
    "G = wattsstrogatzmatrix(N, 3, 1);#0.232)\n"
   ]
  },
  {
   "cell_type": "code",
   "execution_count": 408,
   "metadata": {},
   "outputs": [],
   "source": [
    "# Set the initial conditions\n",
    "\n",
    "x_0 = zeros(2*N)\n",
    "x_0[2 .* (1:N) .- 1] = rand(N) .* 2 .* a .- a\n",
    "x_0[2 .* (1:N)] = rand(N) .* 2 .* (-a + a^3 / 3) .- (-a + a^3 / 3) #rand(Uniform(-a + a^3 / 3, a - a^3 / 3), N)\n",
    "\n",
    "# Define the ODE problem\n",
    "prob = ODEProblem((dx, x, params, t) -> coupled_fhn_eom!(dx, x, params[1], params[2], params[3], G, b), x_0, (0.0, 300.0), [a, eps, σ])\n",
    "\n",
    "# Solve the ODE problem\n",
    "# alg = Tsit5()\n",
    "sol = solve(prob);\n"
   ]
  },
  {
   "cell_type": "markdown",
   "metadata": {},
   "source": [
    "### Plots"
   ]
  },
  {
   "cell_type": "code",
   "execution_count": 410,
   "metadata": {},
   "outputs": [],
   "source": [
    "include(\"src/network_sol_analysis.jl\")\n",
    "using GLMakie\n",
    "using LaTeXStrings\n",
    "\n",
    "f = Figure(size = (800, 600))\n",
    "ax = Axis(f[1, 1])\n",
    "ax.title = \"Kuramoto Order Parameter\"\n",
    "ax.xlabel = \"Time\"\n",
    "ax.ylabel = \"Kuramoto Order Parameter\"\n",
    "t_val, kuramoto_val = kuramoto_time_series(sol, N)\n",
    "lines!(ax, t_val, kuramoto_val)\n",
    "f\n"
   ]
  },
  {
   "cell_type": "markdown",
   "metadata": {},
   "source": [
    "## Study Cluster Synchronization in the integration of the FHN model."
   ]
  },
  {
   "cell_type": "markdown",
   "metadata": {},
   "source": [
    "### First, a test\n",
    "\n",
    "Based on what is shown in the paper (https://doi.org/10.48550/arXiv.2303.08668), first we test with a complete graph."
   ]
  },
  {
   "cell_type": "code",
   "execution_count": 15,
   "metadata": {},
   "outputs": [
    {
     "name": "stdout",
     "output_type": "stream",
     "text": [
      "zero_msf = 0.20373021436669891\n",
      "msf = "
     ]
    },
    {
     "name": "stdout",
     "output_type": "stream",
     "text": [
      "-1.8873508449642648e-17\n"
     ]
    }
   ],
   "source": [
    "include(\"src/msf.jl\")\n",
    "zero_msf = msf_zero()\n",
    "println(\"zero_msf = \", zero_msf)\n",
    "println(\"msf = \", master_stability_function(zero_msf, 0))"
   ]
  },
  {
   "cell_type": "code",
   "execution_count": 100,
   "metadata": {},
   "outputs": [
    {
     "name": "stdout",
     "output_type": "stream",
     "text": [
      "Critical Couplings: [0.02037302, 0.01198413, 0.00970144]\n",
      "Eigenvalues: [3.552713678800501e-15, 9.999999999999996, 9.999999999999996, 10.000000000000014, 16.99999999999999, 16.999999999999993, 17.000000000000007, 20.99999999999998, 20.999999999999993, 21.0]\n"
     ]
    },
    {
     "data": {
      "text/plain": [
       "0.018335718"
      ]
     },
     "metadata": {},
     "output_type": "display_data"
    }
   ],
   "source": [
    "include(\"src/network_matrices_creation.jl\")\n",
    "include(\"src/network_simulation.jl\")\n",
    "include(\"src/cluster_synch.jl\")\n",
    "using Random\n",
    "N = 10\n",
    "eps = 0.05\n",
    "a = 0.5\n",
    "b = -bmatrix(pi/2-0.1, eps)\n",
    "G = test_matrix_for_cluster_synch();\n",
    "eigenvalues, eigenvectors, clusters, s_matrices = s_matrix_method(G)\n",
    "critical_couplings = unique(round.(zero_msf./eigenvalues, digits=8))[2:end]#unique(zero_msf./eigenvalues)[2:end]#\n",
    "println(\"Critical Couplings: \", critical_couplings)\n",
    "println(\"Eigenvalues: \", eigenvalues)\n",
    "σ = critical_couplings[1]*0.9\n"
   ]
  },
  {
   "cell_type": "code",
   "execution_count": 101,
   "metadata": {},
   "outputs": [],
   "source": [
    "x_0 = zeros(2*N)\n",
    "x_0[2 .* (1:N) .- 1] = rand(N) .* 2 .* a .- a\n",
    "x_0[2 .* (1:N)] = rand(N) .* 2 .* (-a + a^3 / 3) .- (-a + a^3 / 3)\n",
    "\n",
    "prob = ODEProblem((dx, x, params, t) -> coupled_fhn_eom!(dx, x, params[1], params[2], params[3], G, b), x_0, (0.0, 1000.0), [a, eps, σ])\n",
    "\n",
    "sol = solve(prob; dtmax=0.5);\n"
   ]
  },
  {
   "cell_type": "code",
   "execution_count": 102,
   "metadata": {},
   "outputs": [
    {
     "name": "stdout",
     "output_type": "stream",
     "text": [
      "Cluster 1: [1, 2, 3]\n"
     ]
    },
    {
     "name": "stdout",
     "output_type": "stream",
     "text": [
      "Cluster 2: [4, 5, 6]\n",
      "Cluster 3: [7, 8, 9, 10]\n"
     ]
    }
   ],
   "source": [
    "using GLMakie\n",
    "include(\"src/cluster_synch.jl\")\n",
    "include(\"src/network_sol_analysis.jl\")\n",
    "\n",
    "colors = [\"#5ec962\", \"#21918c\", \"#3b528b\", :red]\n",
    "f = Figure(size= (1000, 600))\n",
    "uni_clusters = unique(clusters)\n",
    "for (i, cluster) in enumerate(uni_clusters)\n",
    "    if isempty(cluster)\n",
    "        continue\n",
    "    else\n",
    "        if i .< length(uni_clusters) && !isempty(uni_clusters[i+1])\n",
    "            cluster = setdiff(cluster[1], uni_clusters[i+1][1])\n",
    "        else\n",
    "            cluster = cluster[1]\n",
    "        end\n",
    "        println(\"Cluster $i: $cluster\")\n",
    "\n",
    "        ax = Axis(f[i, 1])\n",
    "        ax.xlabel = \"Time\"\n",
    "        ax.ylabel = \"Synch Error\"\n",
    "        t_values, synch_error = local_synch_error(sol, cluster)\n",
    "        lines!(ax, t_values, synch_error; label=\"Cluster $cluster\", linewidth=1, color = colors[i])\n",
    "        axislegend()\n",
    "    end\n",
    "end\n",
    "display(f);"
   ]
  },
  {
   "cell_type": "code",
   "execution_count": 106,
   "metadata": {},
   "outputs": [],
   "source": [
    "using GLMakie\n",
    "using Trapz\n",
    "using ProgressMeter\n",
    "include(\"src/cluster_synch.jl\")\n",
    "include(\"src/network_sol_analysis.jl\")\n",
    "\n",
    "N_d = 2\n",
    "N_realizations = 3\n",
    "d_sweep = range(0.005, 0.02, length=N_d)\n",
    "t_measurement = 500.0\n",
    "t_transient = 500.0\n",
    "synch_averages = zeros(N_d, 3)\n",
    "\n",
    "f = Figure(size= (800, 600))\n",
    "uni_clusters = unique(clusters)\n",
    "@showprogress for (k, σ) in enumerate(d_sweep)\n",
    "    for realization in 1:N_realizations\n",
    "        x_0 = zeros(2*N) + 0.001 .* randn(2*N)\n",
    "        prob = ODEProblem((dx, x, params, t) -> coupled_fhn_eom!(dx, x, params[1], params[2], params[3], G, b), x_0, (0.0, t_transient + t_measurement), [a, eps, σ])\n",
    "        # alg = Tsit5()\n",
    "        sol = solve(prob; dtmax=0.5);\n",
    "\n",
    "        for (i, cluster) in enumerate(uni_clusters)\n",
    "            if isempty(cluster)\n",
    "                continue\n",
    "            else\n",
    "                if i .< length(uni_clusters) && !isempty(uni_clusters[i+1])\n",
    "                    cluster = setdiff(cluster[1], uni_clusters[i+1][1])\n",
    "                else\n",
    "                    cluster = cluster[1]\n",
    "                end\n",
    "                t_values, synch_error = local_synch_error(sol, cluster)\n",
    "                synch_averages[k, i] += trapz(t_values[findfirst(t_values .> t_transient):end], synch_error[findfirst(t_values .> t_transient):end])/(t_measurement * N_realizations)\n",
    "            end\n",
    "        end\n",
    "    end\n",
    "end\n",
    "\n",
    "ax = Axis(f[1, 1])\n",
    "ax.xlabel = \"Coupling Strength\"\n",
    "ax.ylabel = \"Average Synch Error\"\n",
    "for i in 1:3\n",
    "    cluster = uni_clusters[i]\n",
    "    if i .< length(uni_clusters) && !isempty(uni_clusters[i+1])\n",
    "        cluster = setdiff(cluster[1], uni_clusters[i+1][1])\n",
    "    else\n",
    "        cluster = cluster[1]\n",
    "    end\n",
    "    lines!(ax, d_sweep, synch_averages[:, i]; label=\"Cluster $cluster\", linewidth=1)\n",
    "end\n",
    "vlines!(ax, critical_couplings; label=\"Critical Couplings\", linewidth=1, color = :red)\n",
    "axislegend()\n",
    "display(f);\n"
   ]
  },
  {
   "cell_type": "code",
   "execution_count": 68,
   "metadata": {},
   "outputs": [],
   "source": [
    "include(\"src/network_sol_analysis.jl\")\n",
    "using GLMakie\n",
    "using LaTeXStrings\n",
    "\n",
    "f = Figure(size = (800, 200))\n",
    "ax = Axis(f[1, 1])\n",
    "ax.title = \"Kuramoto Order Parameter\"\n",
    "ax.xlabel = \"Time\"\n",
    "ax.ylabel = \"Kuramoto Order Parameter\"\n",
    "t_val, kuramoto_val = kuramoto_time_series(sol, N)\n",
    "lines!(ax, t_val, kuramoto_val)\n",
    "f"
   ]
  },
  {
   "cell_type": "markdown",
   "metadata": {},
   "source": [
    "### Now for a watts strogatz network:"
   ]
  },
  {
   "cell_type": "code",
   "execution_count": 175,
   "metadata": {},
   "outputs": [],
   "source": [
    "include(\"src/network_sol_analysis.jl\")\n",
    "using GLMakie\n",
    "using LaTeXStrings\n",
    "\n",
    "f = Figure(size = (800, 300))\n",
    "ax = Axis(f[1, 1])\n",
    "ax.title = \"Kuramoto Order Parameter\"\n",
    "ax.xlabel = \"Time\"\n",
    "ax.ylabel = \"Kuramoto Order Parameter\"\n",
    "t_val, kuramoto_val = kuramoto_time_series(sol, N)\n",
    "lines!(ax, t_val, kuramoto_val)\n",
    "f"
   ]
  },
  {
   "cell_type": "code",
   "execution_count": 117,
   "metadata": {},
   "outputs": [
    {
     "name": "stdout",
     "output_type": "stream",
     "text": [
      "Connected Components:\n",
      "Component 1: [1, 2]\n",
      "Component 2: [3, 4]\n"
     ]
    }
   ],
   "source": [
    "using Graphs\n",
    "\n",
    "# Assuming you have an adjacency matrix as a 2D array\n",
    "adjacency_matrix = [\n",
    "    0 1 0 0;\n",
    "    1 0 0 0;\n",
    "    0 0 0 1;\n",
    "    0 0 1 0;\n",
    "]\n",
    "\n",
    "# Convert the adjacency matrix to an undirected graph\n",
    "graph = SimpleGraph(adjacency_matrix)\n",
    "\n",
    "# Get connected components\n",
    "components = connected_components(graph)\n",
    "\n",
    "# Print the connected components\n",
    "println(\"Connected Components:\")\n",
    "for (i, component) in enumerate(components)\n",
    "    println(\"Component $i: \", component)\n",
    "end\n",
    "\n"
   ]
  }
 ],
 "metadata": {
  "kernelspec": {
   "display_name": "Julia 1.10.0",
   "language": "julia",
   "name": "julia-1.10"
  },
  "language_info": {
   "file_extension": ".jl",
   "mimetype": "application/julia",
   "name": "julia",
   "version": "1.10.0"
  }
 },
 "nbformat": 4,
 "nbformat_minor": 2
}
