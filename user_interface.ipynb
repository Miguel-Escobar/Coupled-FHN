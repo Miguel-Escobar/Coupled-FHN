{
 "cells": [
  {
   "cell_type": "markdown",
   "metadata": {},
   "source": [
    "## Study Cluster Synchronization in the integration of the FHN model."
   ]
  },
  {
   "cell_type": "markdown",
   "metadata": {},
   "source": [
    "### First, a test\n",
    "\n",
    "Based on what is shown in the paper (https://doi.org/10.48550/arXiv.2303.08668), first we test with a complete graph."
   ]
  },
  {
   "cell_type": "code",
   "execution_count": null,
   "metadata": {},
   "outputs": [],
   "source": [
    "include(\"src/msf.jl\")\n",
    "zero_msf = msf_zero()\n",
    "println(\"zero_msf = \", zero_msf)\n",
    "println(\"msf = \", master_stability_function(zero_msf, 0))"
   ]
  },
  {
   "cell_type": "code",
   "execution_count": null,
   "metadata": {},
   "outputs": [],
   "source": [
    "include(\"src/network_matrices_creation.jl\")\n",
    "include(\"src/cluster_synch.jl\")\n",
    "include(\"src/network_simulation.jl\")\n",
    "\n",
    "N = 10\n",
    "eps = 0.05\n",
    "a = 0.5\n",
    "b = bmatrix(pi/2-0.1, eps)\n",
    "G = test_matrix_for_cluster_synch();\n",
    "eigenvalues, eigenvectors, clusters, s_matrices = s_matrix_method(G)\n",
    "eigenvalues = unique(round.(eigenvalues, digits=8))[2:end]\n",
    "critical_couplings = zero_msf./eigenvalues #unique(zero_msf./eigenvalues)[2:end]#\n",
    "println(\"Critical Couplings: \", critical_couplings)\n",
    "println(\"Eigenvalues: \", eigenvalues)\n",
    "σ = critical_couplings[3]*01.035\n"
   ]
  },
  {
   "cell_type": "code",
   "execution_count": null,
   "metadata": {},
   "outputs": [],
   "source": [
    "include(\"src/network_simulation.jl\")\n",
    "using Random\n",
    "x_0 = zeros(2*N)#+ 0.0001.*randn(2*N)\n",
    "# x_0[2 .* (1:N) .- 1] = rand(N) .* 2 .* a .- a\n",
    "# x_0[2 .* (1:N)] = rand(N) .* 2 .* (-a + a^3 / 3) .- (-a + a^3 / 3)\n",
    "prob = ODEProblem((dx, x, params, t) -> coupled_fhn_eom!(dx, x, params[1], params[2], params[3], G, b, N), x_0, (0.0, 1000.0), [a, eps, σ])\n",
    "sol = solve(prob; dtmax=0.001, maxiters=1e8);"
   ]
  },
  {
   "cell_type": "code",
   "execution_count": null,
   "metadata": {},
   "outputs": [],
   "source": [
    "# using CairoMakie\n",
    "# CairoMakie.activate!(type = \"svg\")\n",
    "using GLMakie\n",
    "include(\"src/cluster_synch.jl\")\n",
    "include(\"src/network_sol_analysis.jl\")\n",
    "\n",
    "colors = [\"#020202\",\"#878F92\", \"#B20100\", \"#6C6C6C\",  \"#BE312B\", \"#F8F8F8\", \"#FFFFFF\"]\n",
    "# f = Figure(size= (900, 600), backgroundcolor = (:transparent), fontsize = 25)\n",
    "f = Figure(size= (900, 600))\n",
    "uni_clusters = unique(clusters)\n",
    "for (i, cluster) in enumerate(uni_clusters)\n",
    "    if isempty(cluster)\n",
    "        continue\n",
    "    else\n",
    "        if i .< length(uni_clusters) && !isempty(uni_clusters[i+1])\n",
    "            cluster = setdiff(cluster[1], uni_clusters[i+1][1])\n",
    "        else\n",
    "            cluster = cluster[1]\n",
    "        end\n",
    "        println(\"Cluster $i: $cluster\")\n",
    "\n",
    "        ax = Axis(f[i, 1], backgroundcolor = :transparent)\n",
    "        ax.xlabel = \"Time\"\n",
    "        ax.ylabel = \"Synch Error\"\n",
    "        t_values, synch_error = local_synch_error(sol, cluster)\n",
    "        lines!(ax, t_values, synch_error; label=\"Neurons $cluster\", linewidth=1, color = colors[i])\n",
    "        axislegend()\n",
    "    end\n",
    "end\n",
    "\n",
    "display(f)"
   ]
  },
  {
   "cell_type": "code",
   "execution_count": null,
   "metadata": {},
   "outputs": [],
   "source": [
    "st_plot(sol, 2000, 2500;skip_every=5)"
   ]
  },
  {
   "cell_type": "code",
   "execution_count": null,
   "metadata": {},
   "outputs": [],
   "source": [
    "using CairoMakie\n",
    "using Trapz\n",
    "using ProgressMeter\n",
    "using Base.Threads\n",
    "\n",
    "include(\"src/cluster_synch.jl\")\n",
    "include(\"src/network_sol_analysis.jl\")\n",
    "\n",
    "N_d = 100\n",
    "N_realizations = 30\n",
    "d_sweep = range(0.005, 0.025, length=N_d)\n",
    "t_measurement = 500.0\n",
    "t_transient = 1000.0\n",
    "cluster_synchs = zeros(N_realizations, N_d, 3)\n",
    "global_synchs = zeros(N_realizations, N_d)\n",
    "\n",
    "uni_clusters = unique(clusters)\n",
    "@showprogress for k in 1:N_d\n",
    "    σ = d_sweep[k]\n",
    "    for realization in 1:N_realizations\n",
    "        x_0 = zeros(2*N) + 0.0001 .* randn(2*N)\n",
    "        prob = ODEProblem((dx, x, params, t) -> coupled_fhn_eom!(dx, x, params[1], params[2], params[3], G, b, N), x_0, (0.0, t_transient + t_measurement), [a, eps, σ])\n",
    "        # alg = Tsit5()\n",
    "        sol = solve(prob; dtmax=0.5)\n",
    "        t_val, global_synch = synch_error_time_series(sol)\n",
    "        global_synchs[realization, k] = trapz(t_val[findfirst(t_val .> t_transient):end], global_synch[findfirst(t_val .> t_transient):end])/(t_measurement)\n",
    "        for (i, cluster) in enumerate(uni_clusters)\n",
    "            if isempty(cluster)\n",
    "                continue\n",
    "            else\n",
    "                if i .< length(uni_clusters) && !isempty(uni_clusters[i+1])\n",
    "                    cluster = setdiff(cluster[1], uni_clusters[i+1][1])\n",
    "                else\n",
    "                    cluster = cluster[1]\n",
    "                end\n",
    "                t_values, synch_error = local_synch_error(sol, cluster)\n",
    "                # cluster_synch_averages[k, i] += trapz(t_values[findfirst(t_values .> t_transient):end], synch_error[findfirst(t_values .> t_transient):end])/(t_measurement * N_realizations)\n",
    "                cluster_synchs[realization, k, i] = trapz(t_values[findfirst(t_values .> t_transient):end], synch_error[findfirst(t_values .> t_transient):end])/(t_measurement)\n",
    "            end\n",
    "        end\n",
    "    end\n",
    "end\n"
   ]
  },
  {
   "cell_type": "code",
   "execution_count": null,
   "metadata": {},
   "outputs": [],
   "source": [
    "global_synch_averages = mean(global_synchs, dims=1)[1, :]\n",
    "cluster_synch_averages = mean(cluster_synchs, dims=1)[1, :, :]\n",
    "cluster_synch_std = std(cluster_synchs, dims=1)[1, :, :]./sqrt(N_realizations)\n",
    "colors = [\"#020202\",\"#878F92\", \"#B20100\", \"#6C6C6C\",  \"#BE312B\", \"#F8F8F8\", \"#FFFFFF\"]\n",
    "f = Figure(size= (800, 600), backgroundcolor = (:transparent), fontsize = 25)\n",
    "\n",
    "ax = Axis(f[1, 1], backgroundcolor = :transparent)\n",
    "ax.xlabel = \"σ\"\n",
    "ax.ylabel = \"Average Synch Error\"\n",
    "for i in 1:3\n",
    "    cluster = uni_clusters[i]\n",
    "    if i .< length(uni_clusters) && !isempty(uni_clusters[i+1])\n",
    "        cluster = setdiff(cluster[1], uni_clusters[i+1][1])\n",
    "    else\n",
    "        cluster = cluster[1]\n",
    "    end\n",
    "    lines!(ax, d_sweep, cluster_synch_averages[:, i]; label=\"Cluster $cluster\", color=colors[i])\n",
    "    fill_between!(ax, d_sweep, cluster_synch_averages[:, i] - cluster_synch_std[:, i],\n",
    "            cluster_synch_averages[:, i] + cluster_synch_std[:, i], color=(colors[i], 0.25))\n",
    "end\n",
    "lines!(ax, d_sweep, global_synch_averages; label=\"Global\", linestyle=:dash, color=:black)\n",
    "vlines!(ax, critical_couplings; label=\"Critical Couplings\", linewidth=1, color = :red, linestyle=:dash)\n",
    "axislegend()\n",
    "save(\"clusters_vs_coupling.svg\", f)"
   ]
  },
  {
   "cell_type": "code",
   "execution_count": null,
   "metadata": {},
   "outputs": [],
   "source": [
    "using CairoMakie\n",
    "using Trapz\n",
    "using ProgressMeter\n",
    "using Base.Threads\n",
    "\n",
    "include(\"src/cluster_synch.jl\")\n",
    "include(\"src/network_sol_analysis.jl\")\n",
    "\n",
    "N_d = 100\n",
    "N_realizations = 50\n",
    "d_sweep = range(0.005, 0.025, length=N_d)\n",
    "t_measurement = 300.0\n",
    "t_transient = 0.0\n",
    "cluster_synchs_short = zeros(N_realizations, N_d, 3)\n",
    "global_synchs_short = zeros(N_realizations, N_d)\n",
    "\n",
    "uni_clusters = unique(clusters)\n",
    "@showprogress for k in 1:N_d\n",
    "    σ = d_sweep[k]\n",
    "    for realization in 1:N_realizations\n",
    "        x_0 = zeros(2*N) + 0.0001 .* randn(2*N)\n",
    "        prob = ODEProblem((dx, x, params, t) -> coupled_fhn_eom!(dx, x, params[1], params[2], params[3], G, b, N), x_0, (0.0, t_transient + t_measurement), [a, eps, σ])\n",
    "        # alg = Tsit5()\n",
    "        sol = solve(prob; dtmax=0.5)\n",
    "        t_val, global_synch = synch_error_time_series(sol)\n",
    "        global_synchs_short[realization, k] = trapz(t_val[findfirst(t_val .> t_transient):end], global_synch[findfirst(t_val .> t_transient):end])/(t_measurement)\n",
    "        for (i, cluster) in enumerate(uni_clusters)\n",
    "            if isempty(cluster)\n",
    "                continue\n",
    "            else\n",
    "                if i .< length(uni_clusters) && !isempty(uni_clusters[i+1])\n",
    "                    cluster = setdiff(cluster[1], uni_clusters[i+1][1])\n",
    "                else\n",
    "                    cluster = cluster[1]\n",
    "                end\n",
    "                t_values, synch_error = local_synch_error(sol, cluster)\n",
    "                # cluster_synch_averages[k, i] += trapz(t_values[findfirst(t_values .> t_transient):end], synch_error[findfirst(t_values .> t_transient):end])/(t_measurement * N_realizations)\n",
    "                cluster_synchs_short[realization, k, i] = trapz(t_values[findfirst(t_values .> t_transient):end], synch_error[findfirst(t_values .> t_transient):end])/(t_measurement)\n",
    "            end\n",
    "        end\n",
    "    end\n",
    "end"
   ]
  },
  {
   "cell_type": "code",
   "execution_count": null,
   "metadata": {},
   "outputs": [],
   "source": [
    "global_synch_averages = mean(global_synchs_short, dims=1)[1, :]\n",
    "cluster_synch_averages = mean(cluster_synchs_short, dims=1)[1, :, :]\n",
    "cluster_synch_std = std(cluster_synchs, dims=1)[1, :, :]./sqrt(N_realizations)\n",
    "colors = [\"#020202\",\"#878F92\", \"#B20100\", \"#6C6C6C\",  \"#BE312B\", \"#F8F8F8\", \"#FFFFFF\"]\n",
    "f = Figure(size= (800, 600), backgroundcolor = (:transparent), fontsize=25)\n",
    "\n",
    "ax = Axis(f[1, 1], backgroundcolor = :transparent)\n",
    "ax.xlabel = \"σ\"\n",
    "ax.ylabel = \"Average Synch Error\"\n",
    "for i in 1:3\n",
    "    cluster = uni_clusters[i]\n",
    "    if i .< length(uni_clusters) && !isempty(uni_clusters[i+1])\n",
    "        cluster = setdiff(cluster[1], uni_clusters[i+1][1])\n",
    "    else\n",
    "        cluster = cluster[1]\n",
    "    end\n",
    "    lines!(ax, d_sweep, cluster_synch_averages[:, i]; label=\"Cluster $cluster\", color=colors[i])\n",
    "    fill_between!(ax, d_sweep, cluster_synch_averages[:, i] - cluster_synch_std[:, i],\n",
    "            cluster_synch_averages[:, i] + cluster_synch_std[:, i], color=(colors[i], 0.25))\n",
    "end\n",
    "lines!(ax, d_sweep, global_synch_averages; label=\"Global\", linestyle=:dash, color=:black)\n",
    "vlines!(ax, critical_couplings; label=\"Critical Couplings\", linewidth=1, color = :red, linestyle=:dash)\n",
    "axislegend()\n",
    "save(\"clusters_vs_coupling_short.svg\", f)"
   ]
  },
  {
   "cell_type": "code",
   "execution_count": null,
   "metadata": {},
   "outputs": [],
   "source": [
    "include(\"src/network_sol_analysis.jl\")\n",
    "using GLMakie\n",
    "using LaTeXStrings\n",
    "\n",
    "f = Figure(size = (800, 200))\n",
    "ax = Axis(f[1, 1])\n",
    "ax.title = \"Kuramoto Order Parameter\"\n",
    "ax.xlabel = \"Time\"\n",
    "ax.ylabel = \"Kuramoto Order Parameter\"\n",
    "t_val, kuramoto_val = kuramoto_time_series(sol, N)\n",
    "lines!(ax, t_val, kuramoto_val)\n",
    "f"
   ]
  },
  {
   "cell_type": "markdown",
   "metadata": {},
   "source": [
    "### Now for a watts-strogatz matrix"
   ]
  },
  {
   "cell_type": "code",
   "execution_count": null,
   "metadata": {},
   "outputs": [],
   "source": [
    "include(\"src/network_matrices_creation.jl\")\n",
    "include(\"src/cluster_synch.jl\")\n",
    "include(\"src/network_simulation.jl\")\n",
    "\n",
    "N = 90\n",
    "eps = 0.05\n",
    "a = 0.5\n",
    "b = bmatrix(pi/2-0.1, eps)\n",
    "G = wattsstrogatzmatrix(N, 3, 0.3);\n",
    "eigenvalues, eigenvectors, clusters, s_matrices = s_matrix_method(G)\n",
    "eigenvalues = unique(round.(eigenvalues, digits=8))[2:end]\n",
    "critical_couplings = zero_msf./eigenvalues #unique(zero_msf./eigenvalues)[2:end]#\n",
    "println(\"Critical Couplings: \", critical_couplings)\n",
    "println(\"Eigenvalues: \", eigenvalues)\n",
    "println(\"clusters: \", clusters)\n",
    "println(\"len_clusters: \", length(clusters))\n",
    "σ = 0.07"
   ]
  },
  {
   "cell_type": "code",
   "execution_count": null,
   "metadata": {},
   "outputs": [],
   "source": [
    "include(\"src/network_simulation.jl\")\n",
    "using Random\n",
    "σ = critical_couplings[5]*1.01\n",
    "println(\"σ = \", σ)\n",
    "x_0 = zeros(2*N)\n",
    "x_0[2 .* (1:N) .- 1] = rand(N) .* 2 .* a .- a\n",
    "x_0[2 .* (1:N)] = rand(N) .* 2 .* (-a + a^3 / 3) .- (-a + a^3 / 3)\n",
    "prob = ODEProblem((dx, x, params, t) -> coupled_fhn_eom!(dx, x, params[1], params[2], params[3], G, b), x_0, (0.0, 1000.0), [a, eps, σ])\n",
    "sol = solve(prob; dtmax=0.9);"
   ]
  },
  {
   "cell_type": "code",
   "execution_count": null,
   "metadata": {},
   "outputs": [],
   "source": [
    "include(\"src/network_sol_analysis.jl\")\n",
    "st_plot(sol, 150, 300;skip_every=1)"
   ]
  },
  {
   "cell_type": "markdown",
   "metadata": {},
   "source": [
    "# Figure creation"
   ]
  },
  {
   "cell_type": "code",
   "execution_count": 4,
   "metadata": {},
   "outputs": [
    {
     "data": {
      "text/plain": [
       "GLMakie.Screen(...)"
      ]
     },
     "metadata": {},
     "output_type": "display_data"
    }
   ],
   "source": [
    "# using CairoMakie\n",
    "using GLMakie\n",
    "using Serialization\n",
    "using Statistics\n",
    "\n",
    "ws_forward = deserialize(\"ws_sweep_data/forward_array\")\n",
    "ws_backward = deserialize(\"ws_sweep_data/backward_array\")\n",
    "ws_forward_d_sweep = deserialize(\"ws_sweep_data/forward_d_sweep\")[5:end-5]\n",
    "ws_backward_d_sweep = deserialize(\"ws_sweep_data/backward_d_sweep\")[5:end-5]\n",
    "ws_forward_avg = mean(ws_forward, dims=1)[1, 5:end-5]\n",
    "ws_backward_avg = mean(ws_backward, dims=1)[1, 5:end-5]\n",
    "ws_forward_std = std(ws_forward, dims=1)[1, 5:end-5]./sqrt(length(ws_forward[:, 1]))\n",
    "ws_backward_std = std(ws_backward, dims=1)[1, 5:end-5]./sqrt(length(ws_forward[:, 1]))\n",
    "\n",
    "colors = [\"#878F92\", \"#B20100\"]\n",
    "# f = Figure(size = (700, 500), backgroundcolor = (:transparent), fontsize=25)\n",
    "f = Figure(size = (700, 500))\n",
    "ax = Axis(f[1, 1], backgroundcolor = :transparent)\n",
    "ax.xlabel = \"σ\"\n",
    "ax.ylabel = \"Kuramoto Order Parameter\"\n",
    "lines!(ax, ws_forward_d_sweep, ws_forward_avg; label=\"Decreasing coupling strength\", color=colors[1])\n",
    "lines!(ax, ws_backward_d_sweep, ws_backward_avg; label=\"Increasing coupling strength\", color=colors[2])\n",
    "fill_between!(ax, ws_forward_d_sweep, ws_forward_avg - ws_forward_std, ws_forward_avg + ws_forward_std, color=(colors[1], 0.25))\n",
    "fill_between!(ax, ws_backward_d_sweep, ws_backward_avg - ws_backward_std, ws_backward_avg + ws_backward_std, color=(colors[2], 0.25))\n",
    "axislegend(position=:rb)\n",
    "# save(\"ws_adiabatic.svg\", f)\n",
    "# include(\"src/network_matrices_creation.jl\")\n",
    "# include(\"src/cluster_synch.jl\")\n",
    "# include(\"src/msf.jl\")\n",
    "# zero_msf = msf_zero()\n",
    "# critical_couplings = zeros(89)\n",
    "# for i in 1:100\n",
    "#     G = wattsstrogatzmatrix(90, 3, 1)\n",
    "#     eigenvalues, eigenvectors, clusters, s_matrices = s_matrix_method(G)\n",
    "#     non_zero_eigvals = eigenvalues[2:end]\n",
    "#     critical_couplings .+= zero_msf./non_zero_eigvals\n",
    "# end\n",
    "# critical_couplings ./= 100\n",
    "\n",
    "# vlines!(ax, critical_couplings, label=\"Critical Couplings\", linewidth=1, color = :red, linestyle=:dash)\n",
    "display(f)\n",
    "\n",
    "\n"
   ]
  },
  {
   "cell_type": "code",
   "execution_count": 8,
   "metadata": {},
   "outputs": [
    {
     "data": {
      "text/plain": [
       "\"ws_backward_d_sweep.csv\""
      ]
     },
     "metadata": {},
     "output_type": "display_data"
    }
   ],
   "source": [
    "using CSV, DataFrames\n",
    "\n",
    "forward_df = DataFrame(\"Forward d sweep\" => ws_forward_d_sweep, \"Corresponding averaged value\" => ws_forward_avg, \"Corresponding standard deviation\" => ws_forward_std)\n",
    "CSV.write(\"ws_forward_d_sweep.csv\", forward_df)\n",
    "\n",
    "backward_df = DataFrame(\"Backward d sweep\" => ws_backward_d_sweep, \"Corresponding averaged value\" => ws_backward_avg, \"Corresponding standard deviation\" => ws_backward_std)\n",
    "CSV.write(\"ws_backward_d_sweep.csv\", backward_df)\n"
   ]
  },
  {
   "cell_type": "code",
   "execution_count": null,
   "metadata": {},
   "outputs": [],
   "source": [
    "using CairoMakie\n",
    "using Serialization\n",
    "using Statistics\n",
    "\n",
    "cluster_forward = deserialize(\"cluster_sweep_data/cluster_forward\")\n",
    "cluster_backward = deserialize(\"cluster_sweep_data/cluster_backward\")\n",
    "forward_d_sweep = deserialize(\"cluster_sweep_data/forward_d_sweep\")\n",
    "backward_d_sweep = deserialize(\"cluster_sweep_data/backward_d_sweep\")\n",
    "global_forward = deserialize(\"cluster_sweep_data/global_forward\")\n",
    "global_backward = deserialize(\"cluster_sweep_data/global_backward\")\n",
    "\n",
    "global_forward_avg = mean(global_forward, dims=1)[1, :]\n",
    "global_backward_avg = mean(global_backward, dims=1)[1, :]\n",
    "cluster_forward_avg = mean(cluster_forward, dims=1)[1, :, :]\n",
    "cluster_backward_avg = mean(cluster_backward, dims=1)[1, :, :]\n",
    "\n",
    "global_forward_std = std(global_forward, dims=1)[1, :]./sqrt(length(global_forward[:, 1]))\n",
    "global_backward_std = std(global_backward, dims=1)[1, :]./sqrt(length(global_backward[:, 1]))\n",
    "cluster_forward_std = std(cluster_forward, dims=1)[1, :, :]./sqrt(length(cluster_forward[:, 1, 1]))\n",
    "cluster_backward_std = std(cluster_backward, dims=1)[1, :, :]./sqrt(length(cluster_backward[:, 1, 1]))\n",
    "\n",
    "critical_couplings = [0.020373021436669875, 0.011984130256864633, 0.009701438779366607]\n",
    "unique_clusters =  [[1, 2, 3],\n",
    "[4, 5, 6],\n",
    "[7, 8, 9, 10]]\n",
    "colors = [\"#020202\", \"#878F92\", \"#B20100\", \"#6C6C6C\",  \"#BE312B\", \"#F8F8F8\", \"#FFFFFF\"]\n",
    "\n",
    "f = Figure(size = (1800, 600), backgroundcolor = (:transparent), fontsize=25)\n",
    "\n",
    "\n",
    "for i in 1:length(unique_clusters)\n",
    "    cluster = unique_clusters[i]\n",
    "    if i ==1\n",
    "        global new_ax = Axis(f[1, i], backgroundcolor = :transparent)\n",
    "    else\n",
    "        global new_ax = Axis(f[1, i], backgroundcolor = :transparent)\n",
    "    end\n",
    "    new_ax.title = \"Cluster $cluster\"\n",
    "    new_ax.xlabel = \"σ\"\n",
    "    new_ax.ylabel = \"Average Normalized Synch Error\"\n",
    "    lines!(new_ax, forward_d_sweep[5:end-5], cluster_forward_avg[5:end-5, i]./maximum(cluster_forward_avg[5:end-5, i]), color=colors[3], label=\"Cluster Decreasing\") # 6000 timesteps for thermalization\n",
    "    lines!(new_ax, backward_d_sweep[5:end-5], cluster_backward_avg[5:end-5, i]./maximum(cluster_backward_avg[5:end-5, i]), color=colors[2], label=\"Cluster Increasing\")\n",
    "    lines!(new_ax, forward_d_sweep[5:end-5], global_forward_avg[5:end-5]./maximum(global_forward_avg[5:end-5]), color=colors[1],linestyle = :dash, label=\"Entire Network Decreasing\") # 5000 timesteps for thermalization\n",
    "    lines!(new_ax, backward_d_sweep[5:end-5], global_backward_avg[5:end-5]./maximum(global_backward_avg[5:end-5]), color=colors[4],linestyle=:dash, label=\"Entire Network Increasing\")\n",
    "    fill_between!(new_ax, forward_d_sweep[5:end-5], cluster_forward_avg[5:end-5, i]./maximum(cluster_forward_avg[5:end-5, i]) - cluster_forward_std[5:end-5, i]./maximum(cluster_forward_avg[5:end-5, i]),\n",
    "            cluster_forward_avg[5:end-5, i]./maximum(cluster_forward_avg[5:end-5, i]) + cluster_forward_std[5:end-5, i]./maximum(cluster_forward_avg[5:end-5, i]), color=(colors[3], 0.25))\n",
    "    fill_between!(new_ax, backward_d_sweep[5:end-5], cluster_backward_avg[5:end-5, i]./maximum(cluster_backward_avg[5:end-5, i]) - cluster_backward_std[5:end-5, i]./maximum(cluster_backward_avg[5:end-5, i]),\n",
    "            cluster_backward_avg[5:end-5, i]./maximum(cluster_backward_avg[5:end-5, i]) + cluster_backward_std[5:end-5, i]./maximum(cluster_backward_avg[5:end-5, i]), color=(colors[2], 0.25))\n",
    "    fill_between!(new_ax, forward_d_sweep[5:end-5], global_forward_avg[5:end-5]./maximum(global_forward_avg[5:end-5]) - global_forward_std[5:end-5]./maximum(global_forward_avg[5:end-5]),\n",
    "            global_forward_avg[5:end-5]./maximum(global_forward_avg[5:end-5]) + global_forward_std[5:end-5]./maximum(global_forward_avg[5:end-5]), color=(colors[1], 0.25))\n",
    "    fill_between!(new_ax, backward_d_sweep[5:end-5], global_backward_avg[5:end-5]./maximum(global_backward_avg[5:end-5]) - global_backward_std[5:end-5]./maximum(global_backward_avg[5:end-5]),\n",
    "            global_backward_avg[5:end-5]./maximum(global_backward_avg[5:end-5]) + global_backward_std[5:end-5]./maximum(global_backward_avg[5:end-5]), color=(colors[4], 0.25))\n",
    "    \n",
    "    vlines!(new_ax, critical_couplings[1:3]; label=\"Critical Couplings\", linestyle=:dash, color = :red)\n",
    "    axislegend(new_ax, position=:rt)\n",
    "end\n",
    "save(\"clusters_adiabatic_sweep.svg\", f)\n",
    "f\n"
   ]
  },
  {
   "cell_type": "code",
   "execution_count": null,
   "metadata": {},
   "outputs": [],
   "source": [
    "using CairoMakie\n",
    "\n",
    "couplings = [0.01,\n",
    " 0.02,\n",
    " 0.03,\n",
    " 0.04,\n",
    " 0.0506,\n",
    " 0.06,\n",
    " 0.07,\n",
    " 0.08,\n",
    " 0.09,\n",
    " 0.1,\n",
    " 0.13,\n",
    " 0.16,\n",
    " 0.19,\n",
    " 0.22,\n",
    " 0.25,\n",
    " 0.28,\n",
    " 0.3,\n",
    " 0.34,\n",
    " 0.37,\n",
    " 0.4,\n",
    " 0.43,\n",
    " 0.45,\n",
    " 0.46,\n",
    " 0.5,\n",
    " 0.53,\n",
    " 0.56,\n",
    " 0.59,\n",
    " 0.62,\n",
    " 0.65,\n",
    " 0.68,\n",
    " 0.7,\n",
    " 0.73,\n",
    " 0.77,\n",
    " 0.8,\n",
    " 0.83,\n",
    " 0.84,\n",
    " 0.87,\n",
    " 0.9,\n",
    " 0.93,\n",
    " 0.96,\n",
    " 1]\n",
    "\n",
    "number_of_events = [0.  , 0.  , 0.  , 0.  , 1.  , 1.05, 5.25, 4.9 , 3.1 , 2.1 , 1.95,\n",
    "1.35, 0.8 , 0.4 , 0.7 , 0.95, 0.85, 1.  , 1.  , 1.  , 1.  , 1.  ,\n",
    "1.  , 1.  , 1.  , 1.  , 1.  , 1.  , 1.  , 1.  , 1.  , 1.  , 1.  ,\n",
    "1.  , 1.  , 1.  , 1.  , 1.  , 1.  , 1.  , 1.  ]\n",
    "\n",
    "f = Figure(size = (800, 600), backgroundcolor = (:transparent), fontsize = 25)\n",
    "ax = Axis(f[1, 1], backgroundcolor = :transparent)\n",
    "ax.xlabel = \"σ\"\n",
    "ax.ylabel = \"Number of Events\"\n",
    "lines!(ax, couplings[1:findfirst(couplings .> 0.2)], number_of_events[1:findfirst(couplings .> 0.2)]; label=\"Number of Events\", color=colors[3])\n",
    "save(\"events_vs_coupling.svg\", f)\n"
   ]
  },
  {
   "cell_type": "markdown",
   "metadata": {},
   "source": [
    "# Test for epsilon = 1.0\n"
   ]
  },
  {
   "cell_type": "code",
   "execution_count": null,
   "metadata": {},
   "outputs": [],
   "source": [
    "include(\"src/msf.jl\")\n",
    "eps = 0.05\n",
    "phi = pi/2-0.1\n",
    "zero_msf = msf_zero(eps=eps, phi=phi)\n",
    "println(\"zero_msf = \", zero_msf)\n",
    "println(\"msf = \", master_stability_function(zero_msf, 0, eps=eps, phi=phi))"
   ]
  },
  {
   "cell_type": "code",
   "execution_count": null,
   "metadata": {},
   "outputs": [],
   "source": [
    "include(\"src/network_matrices_creation.jl\")\n",
    "include(\"src/cluster_synch.jl\")\n",
    "include(\"src/network_simulation.jl\")\n",
    "\n",
    "N = 10\n",
    "a = 0.5\n",
    "b = bmatrix(phi, eps)\n",
    "G = test_matrix_for_cluster_synch();\n",
    "eigenvalues, eigenvectors, clusters, s_matrices = s_matrix_method(G)\n",
    "eigenvalues = unique(round.(eigenvalues, digits=8))[2:end]\n",
    "critical_couplings = zero_msf./eigenvalues #unique(zero_msf./eigenvalues)[2:end]#\n",
    "println(\"Critical Couplings: \", critical_couplings)\n",
    "println(\"Eigenvalues: \", eigenvalues)\n",
    "σ = critical_couplings[3]*01.1\n"
   ]
  },
  {
   "cell_type": "code",
   "execution_count": null,
   "metadata": {},
   "outputs": [],
   "source": [
    "include(\"src/network_simulation.jl\")\n",
    "using Random\n",
    "x_0 = zeros(2*N) + 0.0001.*randn(2*N)\n",
    "# x_0[2 .* (1:N) .- 1] = rand(N) .* 2 .* a .- a\n",
    "# x_0[2 .* (1:N)] = rand(N) .* 2 .* (-a + a^3 / 3) .- (-a + a^3 / 3)\n",
    "prob = ODEProblem((dx, x, params, t) -> coupled_fhn_eom!(dx, x, params[1], params[2], params[3], G, b, N), x_0, (0.0, 100000.0), [a, eps, σ])\n",
    "sol = solve(prob; dtmax=0.9, maxiters=1e8);"
   ]
  },
  {
   "cell_type": "code",
   "execution_count": null,
   "metadata": {},
   "outputs": [],
   "source": [
    "using GLMakie\n",
    "CairoMakie.activate!(type = \"svg\")\n",
    "include(\"src/cluster_synch.jl\")\n",
    "include(\"src/network_sol_analysis.jl\")\n",
    "\n",
    "colors = [\"#020202\",\"#878F92\", \"#B20100\", \"#6C6C6C\",  \"#BE312B\", \"#F8F8F8\", \"#FFFFFF\"]\n",
    "f = Figure(size= (900, 600), backgroundcolor = (:transparent), fontsize = 25)\n",
    "uni_clusters = unique(clusters)\n",
    "for (i, cluster) in enumerate(uni_clusters)\n",
    "    if isempty(cluster)\n",
    "        continue\n",
    "    else\n",
    "        if i .< length(uni_clusters) && !isempty(uni_clusters[i+1])\n",
    "            cluster = setdiff(cluster[1], uni_clusters[i+1][1])\n",
    "        else\n",
    "            cluster = cluster[1]\n",
    "        end\n",
    "        println(\"Cluster $i: $cluster\")\n",
    "\n",
    "        ax = Axis(f[i, 1], backgroundcolor = :transparent)\n",
    "        ax.xlabel = \"Time\"\n",
    "        ax.ylabel = \"Synch Error\"\n",
    "        t_values, synch_error = local_synch_error(sol, cluster)\n",
    "        lines!(ax, t_values, synch_error; label=\"Neurons $cluster\", linewidth=1, color = colors[i])\n",
    "        axislegend()\n",
    "    end\n",
    "end\n",
    "display(f)"
   ]
  },
  {
   "cell_type": "code",
   "execution_count": null,
   "metadata": {},
   "outputs": [],
   "source": [
    "lines(sol.t[1:1000], sol[1, 1:1000])"
   ]
  },
  {
   "cell_type": "markdown",
   "metadata": {},
   "source": [
    "# Creating phase space plots for a Watts-Strogatz network"
   ]
  },
  {
   "cell_type": "markdown",
   "metadata": {},
   "source": [
    "### Simulating the network:"
   ]
  },
  {
   "cell_type": "code",
   "execution_count": null,
   "metadata": {},
   "outputs": [],
   "source": [
    "include(\"src/network_matrices_creation.jl\")\n",
    "include(\"src/network_simulation.jl\")\n",
    "include(\"src/network_sol_analysis.jl\")\n",
    "using GLMakie\n",
    "using LaTeXStrings\n",
    "using Random\n",
    "using BenchmarkTools\n",
    "\n",
    "N = 90\n",
    "eps = 0.05\n",
    "a = 0.5\n",
    "b = bmatrix(pi/2-0.1, eps)\n",
    "σ = 0.07\n",
    "G = wattsstrogatzmatrix(N, 3, 1) .* 1.0\n",
    "\n",
    "x_0 = zeros(2*N) + 0.1.*randn(2*N)\n",
    "# x_0[2 .* (1:N) .- 1] = rand(N) .* 2 .* a .- a\n",
    "# x_0[2 .* (1:N)] = rand(N) .* 2 .* (-a + a^3 / 3) .- (-a + a^3 / 3)\n",
    "prob = ODEProblem((dx, x, params, t) -> coupled_fhn_eom!(dx, x, params[1], params[2], params[3], G, b, N), x_0, (0.0, 1000.0), [a, eps, σ])\n",
    "sol = solve(prob, dtmax=0.01);\n"
   ]
  },
  {
   "cell_type": "markdown",
   "metadata": {},
   "source": [
    "### FIgure creation:"
   ]
  },
  {
   "cell_type": "code",
   "execution_count": null,
   "metadata": {},
   "outputs": [],
   "source": [
    "f = Figure(size = (600, 600), fontsize=25)\n",
    "ax = Axis3(f[1, 1])\n",
    "x, y, z = sol[1, 10000:end], sol[2, 10000:end], sol[3, 10000:end]\n",
    "lines!(ax,  x, y, z)\n",
    "xs = LinRange(minimum(sol[1, :]), maximum(sol[1, :]), 10)\n",
    "ys = LinRange(minimum(sol[2, :]), maximum(sol[2, :]), 10)\n",
    "zs = [x for x in xs, y in ys]\n",
    "surface!(ax, xs, ys, zs, alpha=0.4, colorscale=x -> 1)\n",
    "ax.xlabel = L\"$u_1$\"\n",
    "ax.ylabel = L\"$v_1$\"\n",
    "ax.zlabel = L\"$u_2$\"\n",
    "\n",
    "angles = LinRange(0, 2π, 100)\n",
    "perspective = sin.(angles).^2\n",
    "framerate = 30\n",
    "record(f, \"test_anim.gif\", angles;\n",
    "        framerate = framerate) do angle\n",
    "    ax.perspectiveness = perspective[findfirst(angles .≈ angle)]\n",
    "    ax.azimuth = angle\n",
    "end\n"
   ]
  },
  {
   "cell_type": "code",
   "execution_count": null,
   "metadata": {},
   "outputs": [],
   "source": [
    "include(\"src/network_sol_analysis.jl\")\n",
    "u_avg = mean(sol[1:2:2*N, 10000:end], dims=1)[1, :]\n",
    "v_avg = mean(sol[2:2:2*N, 10000:end], dims=1)[1, :]\n",
    "synch_error= synch_error_time_series(sol)[2][10000:end]\n",
    "# function distance_to_synch_manifold(vector)\n",
    "#     synch_component = ones(N)./sqrt(N)\n",
    "#     u = vector[1:2:2*N]\n",
    "#     v = vector[2:2:2*N]\n",
    "#     u_norm_of_component_in_manifold = dot(synch_component, u)^2\n",
    "#     v_norm_of_component_in_manifold = dot(synch_component, v)^2\n",
    "#     return sqrt(norm(u)^2 - u_norm_of_component_in_manifold + norm(v)^2 - v_norm_of_component_in_manifold)\n",
    "# end\n",
    "\n",
    "# d_transverse = zeros(length(u_avg))\n",
    "# for i in length(u_avg)\n",
    "#     d_transverse[i] = distance_to_synch_manifold(sol[:, 10000+i-1])\n",
    "# end\n",
    "\n",
    "f = Figure(size = (800, 800), fontsize=25)\n",
    "ax = Axis3(f[1, 1])\n",
    "zlims!(ax, 0, 2)\n",
    "lines!(ax, u_avg, v_avg, synch_error)\n",
    "\n",
    "ax.xlabel = L\"$\\langle u \\rangle$\"\n",
    "ax.ylabel = L\"$\\langle v \\rangle$\"\n",
    "ax.zlabel = L\"\\langle E_S \\rangle\"\n",
    "f"
   ]
  },
  {
   "cell_type": "code",
   "execution_count": null,
   "metadata": {},
   "outputs": [],
   "source": [
    "using GLMakie # All functionality is defined in Makie and every backend re-exports Makie\n",
    "\n",
    "points = Observable(Point3f[]) # Signal that can be used to update plots efficiently\n",
    "colors = Observable(Int[])\n",
    "\n",
    "set_theme!(theme_black())\n",
    "\n",
    "fig, ax, l = lines(points, color = colors, colormap = :inferno, transparency = true, axis = (; type = Axis3, viewmode = :fit, limits = (-2.2, 2.2, -1.1, 1.1, -2.2, 2.2)))\n",
    "\n",
    "ax.xlabel = L\"$u_1$\"\n",
    "ax.ylabel = L\"$v_1$\"\n",
    "ax.zlabel = L\"$u_2$\"\n",
    "              \n",
    "\n",
    "x, y, z = sol[1, 10000:end], sol[2, 10000:end], sol[3, 10000:end]\n",
    "len_x = length(x)\n",
    "println(len_x)\n",
    "final_frame = 10000\n",
    "trail = 250\n",
    "skip_every = 5\n",
    "record(fig, \"phase_space.mp4\", 1:skip_every:final_frame; framerate=60) do frame\n",
    "    for i in 1:skip_every\n",
    "        push!(points[], Point3f(x[frame+i], y[frame+i], z[frame+i]))\n",
    "        push!(colors[], frame)\n",
    "    end\n",
    "    ax.azimuth[] = 2pi * frame/final_frame # set the view angle of the axis\n",
    "    if frame > trail*skip_every\n",
    "        for i in 1:skip_every\n",
    "            popfirst!(points[])\n",
    "            popfirst!(colors[])\n",
    "        end\n",
    "    end\n",
    "    notify(points); notify(colors) # tell points and colors that their value has been updated\n",
    "    l.colorrange = (frame-trail*skip_every, frame) # update plot attribute directly\n",
    "end"
   ]
  },
  {
   "cell_type": "markdown",
   "metadata": {},
   "source": [
    "# Testing the method described by Fu et. al. (2012) (Synchronous patterns in complex systems)"
   ]
  },
  {
   "cell_type": "markdown",
   "metadata": {},
   "source": [
    "### First, we test with a simulation of a fixed WS network"
   ]
  },
  {
   "cell_type": "code",
   "execution_count": 71,
   "metadata": {},
   "outputs": [],
   "source": [
    "G = wattsstrogatzmatrix(N, 3, 1) .* 1.0;\n"
   ]
  },
  {
   "cell_type": "code",
   "execution_count": 75,
   "metadata": {},
   "outputs": [],
   "source": [
    "include(\"src/network_matrices_creation.jl\")\n",
    "include(\"src/network_simulation.jl\")\n",
    "include(\"src/network_sol_analysis.jl\")\n",
    "using GLMakie\n",
    "using LaTeXStrings\n",
    "using Random\n",
    "using BenchmarkTools\n",
    "\n",
    "N = 90\n",
    "eps = 0.05\n",
    "a = 0.5\n",
    "b = bmatrix(pi/2-0.1, eps)\n",
    "σ = 0.1718\n",
    "\n",
    "x_0 = zeros(2*N) + 0.1.*randn(2*N)\n",
    "# x_0[2 .* (1:N) .- 1] = rand(N) .* 2 .* a .- a\n",
    "# x_0[2 .* (1:N)] = rand(N) .* 2 .* (-a + a^3 / 3) .- (-a + a^3 / 3)\n",
    "prob = ODEProblem((dx, x, params, t) -> coupled_fhn_eom!(dx, x, params[1], params[2], params[3], G, b, N), x_0, (0.0, 1000.0), [a, eps, σ])\n",
    "sol = solve(prob, dtmax=0.01);"
   ]
  },
  {
   "cell_type": "markdown",
   "metadata": {},
   "source": [
    "### Plot for the individual synchronization errors"
   ]
  },
  {
   "cell_type": "code",
   "execution_count": 76,
   "metadata": {},
   "outputs": [],
   "source": [
    "include(\"src/network_sol_analysis.jl\")\n",
    "using GLMakie\n",
    "using LaTeXStrings\n",
    "\n",
    "t, err = individual_synch_error_time_series(sol)\n",
    "\n",
    "f = Figure()\n",
    "ax = Axis(f[1, 1])\n",
    "ax.xlabel = \"Time\"\n",
    "ax.ylabel = \"Neuron\"\n",
    "heatmap!(ax, t[1:10:end], 1:90, err[1:10:end, :])\n",
    "f"
   ]
  }
 ],
 "metadata": {
  "kernelspec": {
   "display_name": "Julia 1.10.2",
   "language": "julia",
   "name": "julia-1.10"
  },
  "language_info": {
   "file_extension": ".jl",
   "mimetype": "application/julia",
   "name": "julia",
   "version": "1.10.2"
  }
 },
 "nbformat": 4,
 "nbformat_minor": 4
}
