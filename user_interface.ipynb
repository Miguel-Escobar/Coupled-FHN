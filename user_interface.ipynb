{
 "cells": [
  {
   "cell_type": "markdown",
   "metadata": {},
   "source": [
    "### Simulating a FHN network."
   ]
  },
  {
   "cell_type": "code",
   "execution_count": 29,
   "metadata": {},
   "outputs": [],
   "source": [
    "include(\"src/network_matrices_creation.jl\")\n",
    "include(\"src/network_simulation.jl\")\n",
    "using BenchmarkTools\n",
    "\n",
    "# Define all the parameters\n",
    "N = 90\n",
    "eps = 0.05\n",
    "a = 0.5\n",
    "b = bmatrix(pi/2-0.1, eps)\n",
    "σ = 0.0506\n",
    "G = wattsstrogatzmatrix(N, 3, 1)#0.232)\n",
    "\n",
    "# Set the initial conditions\n",
    "x_0 = zeros(2*N)\n",
    "x_0[1:2] .+= 0.1\n",
    "\n",
    "# Define the ODE problem\n",
    "prob = ODEProblem((dx, x, params, t) -> coupled_fhn_eom!(dx, x, params[1], params[2], params[3], G, b), x_0, (0.0, 300.0), [a, eps, σ])\n",
    "\n",
    "# Solve the ODE problem\n",
    "# alg = Tsit5()\n",
    "sol = solve(prob);"
   ]
  },
  {
   "cell_type": "code",
   "execution_count": 44,
   "metadata": {},
   "outputs": [],
   "source": [
    "include(\"src/network_sol_analysis.jl\")\n",
    "using GLMakie\n",
    "using LaTeXStrings\n",
    "\n",
    "f = Figure(resolution = (1500, 1000))\n",
    "ax = Axis(f[1, 1])\n",
    "ax.title = \"Kuramoto Order Parameter\"\n",
    "ax.xlabel = \"Time\"\n",
    "ax.ylabel = \"Kuramoto Order Parameter\"\n",
    "t_val, kuramoto_val = kuramoto_time_series(sol, N)\n",
    "lines!(ax, t_val, kuramoto_val)\n",
    "f\n"
   ]
  },
  {
   "cell_type": "markdown",
   "metadata": {},
   "source": [
    "### Studying Cluster Synchronization in the integration of the FHN model."
   ]
  },
  {
   "cell_type": "code",
   "execution_count": null,
   "metadata": {},
   "outputs": [],
   "source": [
    "include(\"src/cluster_synch.jl\")\n",
    "include(\"src/network_sol_analysis.jl\")\n",
    "eigenvectors, eigenvalues, clusters, s_matrices = s_matrix_method(G)\n",
    "\n"
   ]
  }
 ],
 "metadata": {
  "kernelspec": {
   "display_name": "Julia 1.10.0",
   "language": "julia",
   "name": "julia-1.10"
  },
  "language_info": {
   "file_extension": ".jl",
   "mimetype": "application/julia",
   "name": "julia",
   "version": "1.10.0"
  }
 },
 "nbformat": 4,
 "nbformat_minor": 2
}
