{
 "cells": [
  {
   "cell_type": "markdown",
   "metadata": {},
   "source": [
    "## Study Cluster Synchronization in the integration of the FHN model."
   ]
  },
  {
   "cell_type": "markdown",
   "metadata": {},
   "source": [
    "### First, a test\n",
    "\n",
    "Based on what is shown in the paper (https://doi.org/10.48550/arXiv.2303.08668), first we test with a complete graph."
   ]
  },
  {
   "cell_type": "code",
   "execution_count": 55,
   "metadata": {},
   "outputs": [
    {
     "name": "stdout",
     "output_type": "stream",
     "text": [
      "zero_msf = 0.20373021436669875\n",
      "msf = "
     ]
    },
    {
     "name": "stdout",
     "output_type": "stream",
     "text": [
      "6.6612382763443796e-18\n"
     ]
    }
   ],
   "source": [
    "include(\"src/msf.jl\")\n",
    "zero_msf = msf_zero()\n",
    "println(\"zero_msf = \", zero_msf)\n",
    "println(\"msf = \", master_stability_function(zero_msf, 0))"
   ]
  },
  {
   "cell_type": "code",
   "execution_count": 122,
   "metadata": {},
   "outputs": [
    {
     "name": "stdout",
     "output_type": "stream",
     "text": [
      "Critical Couplings: [0.020373021436669875, 0.011984130256864633, 0.009701438779366607]\n",
      "Eigenvalues: [10.0, 17.0, 21.0]\n"
     ]
    },
    {
     "data": {
      "text/plain": [
       "0.010040989136644437"
      ]
     },
     "metadata": {},
     "output_type": "display_data"
    }
   ],
   "source": [
    "include(\"src/network_matrices_creation.jl\")\n",
    "include(\"src/cluster_synch.jl\")\n",
    "include(\"src/network_simulation.jl\")\n",
    "\n",
    "N = 10\n",
    "eps = 0.05\n",
    "a = 0.5\n",
    "b = bmatrix(pi/2-0.1, eps)\n",
    "G = test_matrix_for_cluster_synch();\n",
    "eigenvalues, eigenvectors, clusters, s_matrices = s_matrix_method(G)\n",
    "eigenvalues = unique(round.(eigenvalues, digits=8))[2:end]\n",
    "critical_couplings = zero_msf./eigenvalues #unique(zero_msf./eigenvalues)[2:end]#\n",
    "println(\"Critical Couplings: \", critical_couplings)\n",
    "println(\"Eigenvalues: \", eigenvalues)\n",
    "σ = critical_couplings[3]*01.035\n"
   ]
  },
  {
   "cell_type": "code",
   "execution_count": 123,
   "metadata": {},
   "outputs": [],
   "source": [
    "include(\"src/network_simulation.jl\")\n",
    "using Random\n",
    "x_0 = zeros(2*N) + 0.001.*randn(2*N)\n",
    "x_0[2 .* (1:N) .- 1] = rand(N) .* 2 .* a .- a\n",
    "x_0[2 .* (1:N)] = rand(N) .* 2 .* (-a + a^3 / 3) .- (-a + a^3 / 3)\n",
    "prob = ODEProblem((dx, x, params, t) -> coupled_fhn_eom!(dx, x, params[1], params[2], params[3], G, b), x_0, (0.0, 5000.0), [a, eps, σ])\n",
    "sol = solve(prob; dtmax=0.9, maxiters=1e8);"
   ]
  },
  {
   "cell_type": "code",
   "execution_count": 125,
   "metadata": {},
   "outputs": [
    {
     "name": "stdout",
     "output_type": "stream",
     "text": [
      "Cluster 1: [1, 2, 3]\n"
     ]
    },
    {
     "name": "stdout",
     "output_type": "stream",
     "text": [
      "Cluster 2: [4, 5, 6]\n",
      "Cluster 3: [7, 8, 9, 10]\n"
     ]
    }
   ],
   "source": [
    "using GLMakie\n",
    "include(\"src/cluster_synch.jl\")\n",
    "include(\"src/network_sol_analysis.jl\")\n",
    "\n",
    "colors = [\"#5ec962\", \"#21918c\", \"#3b528b\"]\n",
    "f = Figure(size= (1000, 600))\n",
    "uni_clusters = unique(clusters)\n",
    "for (i, cluster) in enumerate(uni_clusters)\n",
    "    if isempty(cluster)\n",
    "        continue\n",
    "    else\n",
    "        if i .< length(uni_clusters) && !isempty(uni_clusters[i+1])\n",
    "            cluster = setdiff(cluster[1], uni_clusters[i+1][1])\n",
    "        else\n",
    "            cluster = cluster[1]\n",
    "        end\n",
    "        println(\"Cluster $i: $cluster\")\n",
    "\n",
    "        ax = Axis(f[i, 1])\n",
    "        ax.xlabel = \"Time\"\n",
    "        ax.ylabel = \"Synch Error\"\n",
    "        t_values, synch_error = local_synch_error(sol, cluster)\n",
    "        lines!(ax, t_values, synch_error; label=\"Cluster $cluster\", linewidth=1, color = colors[i])\n",
    "        axislegend()\n",
    "    end\n",
    "end\n",
    "display(f);"
   ]
  },
  {
   "cell_type": "code",
   "execution_count": 49,
   "metadata": {},
   "outputs": [],
   "source": [
    "st_plot(sol, 4000, 5000;skip_every=5)"
   ]
  },
  {
   "cell_type": "code",
   "execution_count": 40,
   "metadata": {},
   "outputs": [
    {
     "name": "stderr",
     "output_type": "stream",
     "text": [
      "\r\u001b[32mProgress:   4%|█▋                                       |  ETA: 0:02:40\u001b[39m\u001b[K"
     ]
    },
    {
     "name": "stderr",
     "output_type": "stream",
     "text": [
      "\r\u001b[32mProgress:   6%|██▌                                      |  ETA: 0:02:36\u001b[39m\u001b[K"
     ]
    },
    {
     "name": "stderr",
     "output_type": "stream",
     "text": [
      "\r\u001b[32mProgress:   8%|███▎                                     |  ETA: 0:02:30\u001b[39m\u001b[K"
     ]
    },
    {
     "name": "stderr",
     "output_type": "stream",
     "text": [
      "\r\u001b[32mProgress:  10%|████▏                                    |  ETA: 0:02:23\u001b[39m\u001b[K"
     ]
    },
    {
     "name": "stderr",
     "output_type": "stream",
     "text": [
      "\r\u001b[32mProgress:  12%|████▉                                    |  ETA: 0:02:19\u001b[39m\u001b[K"
     ]
    },
    {
     "name": "stderr",
     "output_type": "stream",
     "text": [
      "\r\u001b[32mProgress:  14%|█████▊                                   |  ETA: 0:02:14\u001b[39m\u001b[K"
     ]
    },
    {
     "name": "stderr",
     "output_type": "stream",
     "text": [
      "\r\u001b[32mProgress:  16%|██████▌                                  |  ETA: 0:02:09\u001b[39m\u001b[K"
     ]
    },
    {
     "name": "stderr",
     "output_type": "stream",
     "text": [
      "\r\u001b[32mProgress:  18%|███████▍                                 |  ETA: 0:02:05\u001b[39m\u001b[K"
     ]
    },
    {
     "name": "stderr",
     "output_type": "stream",
     "text": [
      "\r\u001b[32mProgress:  20%|████████▎                                |  ETA: 0:02:01\u001b[39m\u001b[K"
     ]
    },
    {
     "name": "stderr",
     "output_type": "stream",
     "text": [
      "\r\u001b[32mProgress:  22%|█████████                                |  ETA: 0:01:56\u001b[39m\u001b[K"
     ]
    },
    {
     "name": "stderr",
     "output_type": "stream",
     "text": [
      "\r\u001b[32mProgress:  24%|█████████▉                               |  ETA: 0:01:53\u001b[39m\u001b[K"
     ]
    },
    {
     "name": "stderr",
     "output_type": "stream",
     "text": [
      "\r\u001b[32mProgress:  26%|██████████▋                              |  ETA: 0:01:49\u001b[39m\u001b[K"
     ]
    },
    {
     "name": "stderr",
     "output_type": "stream",
     "text": [
      "\r\u001b[32mProgress:  28%|███████████▌                             |  ETA: 0:01:45\u001b[39m\u001b[K"
     ]
    },
    {
     "name": "stderr",
     "output_type": "stream",
     "text": [
      "\r\u001b[32mProgress:  30%|████████████▎                            |  ETA: 0:01:42\u001b[39m\u001b[K"
     ]
    },
    {
     "name": "stderr",
     "output_type": "stream",
     "text": [
      "\r\u001b[32mProgress:  32%|█████████████▏                           |  ETA: 0:01:38\u001b[39m\u001b[K"
     ]
    },
    {
     "name": "stderr",
     "output_type": "stream",
     "text": [
      "\r\u001b[32mProgress:  34%|██████████████                           |  ETA: 0:01:35\u001b[39m\u001b[K"
     ]
    },
    {
     "name": "stderr",
     "output_type": "stream",
     "text": [
      "\r\u001b[32mProgress:  36%|██████████████▊                          |  ETA: 0:01:31\u001b[39m\u001b[K"
     ]
    },
    {
     "name": "stderr",
     "output_type": "stream",
     "text": [
      "\r\u001b[32mProgress:  38%|███████████████▋                         |  ETA: 0:01:27\u001b[39m\u001b[K"
     ]
    },
    {
     "name": "stderr",
     "output_type": "stream",
     "text": [
      "\r\u001b[32mProgress:  40%|████████████████▍                        |  ETA: 0:01:24\u001b[39m\u001b[K"
     ]
    },
    {
     "name": "stderr",
     "output_type": "stream",
     "text": [
      "\r\u001b[32mProgress:  42%|█████████████████▎                       |  ETA: 0:01:20\u001b[39m\u001b[K"
     ]
    },
    {
     "name": "stderr",
     "output_type": "stream",
     "text": [
      "\r\u001b[32mProgress:  44%|██████████████████                       |  ETA: 0:01:17\u001b[39m\u001b[K"
     ]
    },
    {
     "name": "stderr",
     "output_type": "stream",
     "text": [
      "\r\u001b[32mProgress:  46%|██████████████████▉                      |  ETA: 0:01:14\u001b[39m\u001b[K"
     ]
    },
    {
     "name": "stderr",
     "output_type": "stream",
     "text": [
      "\r\u001b[32mProgress:  48%|███████████████████▋                     |  ETA: 0:01:10\u001b[39m\u001b[K"
     ]
    },
    {
     "name": "stderr",
     "output_type": "stream",
     "text": [
      "\r\u001b[32mProgress:  50%|████████████████████▌                    |  ETA: 0:01:07\u001b[39m\u001b[K"
     ]
    },
    {
     "name": "stderr",
     "output_type": "stream",
     "text": [
      "\r\u001b[32mProgress:  52%|█████████████████████▍                   |  ETA: 0:01:04\u001b[39m\u001b[K"
     ]
    },
    {
     "name": "stderr",
     "output_type": "stream",
     "text": [
      "\r\u001b[32mProgress:  54%|██████████████████████▏                  |  ETA: 0:01:01\u001b[39m\u001b[K"
     ]
    },
    {
     "name": "stderr",
     "output_type": "stream",
     "text": [
      "\r\u001b[32mProgress:  56%|███████████████████████                  |  ETA: 0:00:58\u001b[39m\u001b[K"
     ]
    },
    {
     "name": "stderr",
     "output_type": "stream",
     "text": [
      "\r\u001b[32mProgress:  58%|███████████████████████▊                 |  ETA: 0:00:55\u001b[39m\u001b[K"
     ]
    },
    {
     "name": "stderr",
     "output_type": "stream",
     "text": [
      "\r\u001b[32mProgress:  60%|████████████████████████▋                |  ETA: 0:00:52\u001b[39m\u001b[K"
     ]
    },
    {
     "name": "stderr",
     "output_type": "stream",
     "text": [
      "\r\u001b[32mProgress:  62%|█████████████████████████▍               |  ETA: 0:00:49\u001b[39m\u001b[K"
     ]
    },
    {
     "name": "stderr",
     "output_type": "stream",
     "text": [
      "\r\u001b[32mProgress:  64%|██████████████████████████▎              |  ETA: 0:00:46\u001b[39m\u001b[K"
     ]
    },
    {
     "name": "stderr",
     "output_type": "stream",
     "text": [
      "\r\u001b[32mProgress:  66%|███████████████████████████              |  ETA: 0:00:44\u001b[39m\u001b[K"
     ]
    },
    {
     "name": "stderr",
     "output_type": "stream",
     "text": [
      "\r\u001b[32mProgress:  68%|███████████████████████████▉             |  ETA: 0:00:41\u001b[39m\u001b[K"
     ]
    },
    {
     "name": "stderr",
     "output_type": "stream",
     "text": [
      "\r\u001b[32mProgress:  70%|████████████████████████████▊            |  ETA: 0:00:38\u001b[39m\u001b[K"
     ]
    },
    {
     "name": "stderr",
     "output_type": "stream",
     "text": [
      "\r\u001b[32mProgress:  72%|█████████████████████████████▌           |  ETA: 0:00:35\u001b[39m\u001b[K"
     ]
    },
    {
     "name": "stderr",
     "output_type": "stream",
     "text": [
      "\r\u001b[32mProgress:  74%|██████████████████████████████▍          |  ETA: 0:00:33\u001b[39m\u001b[K"
     ]
    },
    {
     "name": "stderr",
     "output_type": "stream",
     "text": [
      "\r\u001b[32mProgress:  76%|███████████████████████████████▏         |  ETA: 0:00:30\u001b[39m\u001b[K"
     ]
    },
    {
     "name": "stderr",
     "output_type": "stream",
     "text": [
      "\r\u001b[32mProgress:  78%|████████████████████████████████         |  ETA: 0:00:27\u001b[39m\u001b[K"
     ]
    },
    {
     "name": "stderr",
     "output_type": "stream",
     "text": [
      "\r\u001b[32mProgress:  80%|████████████████████████████████▊        |  ETA: 0:00:25\u001b[39m\u001b[K"
     ]
    },
    {
     "name": "stderr",
     "output_type": "stream",
     "text": [
      "\r\u001b[32mProgress:  82%|█████████████████████████████████▋       |  ETA: 0:00:22\u001b[39m\u001b[K"
     ]
    },
    {
     "name": "stderr",
     "output_type": "stream",
     "text": [
      "\r\u001b[32mProgress:  84%|██████████████████████████████████▌      |  ETA: 0:00:20\u001b[39m\u001b[K"
     ]
    },
    {
     "name": "stderr",
     "output_type": "stream",
     "text": [
      "\r\u001b[32mProgress:  86%|███████████████████████████████████▎     |  ETA: 0:00:17\u001b[39m\u001b[K"
     ]
    },
    {
     "name": "stderr",
     "output_type": "stream",
     "text": [
      "\r\u001b[32mProgress:  88%|████████████████████████████████████▏    |  ETA: 0:00:15\u001b[39m\u001b[K"
     ]
    },
    {
     "name": "stderr",
     "output_type": "stream",
     "text": [
      "\r\u001b[32mProgress:  90%|████████████████████████████████████▉    |  ETA: 0:00:12\u001b[39m\u001b[K"
     ]
    },
    {
     "name": "stderr",
     "output_type": "stream",
     "text": [
      "\r\u001b[32mProgress:  92%|█████████████████████████████████████▊   |  ETA: 0:00:10\u001b[39m\u001b[K"
     ]
    },
    {
     "name": "stderr",
     "output_type": "stream",
     "text": [
      "\r\u001b[32mProgress:  94%|██████████████████████████████████████▌  |  ETA: 0:00:07\u001b[39m\u001b[K"
     ]
    },
    {
     "name": "stderr",
     "output_type": "stream",
     "text": [
      "\r\u001b[32mProgress:  96%|███████████████████████████████████████▍ |  ETA: 0:00:05\u001b[39m\u001b[K"
     ]
    },
    {
     "name": "stderr",
     "output_type": "stream",
     "text": [
      "\r\u001b[32mProgress:  98%|████████████████████████████████████████▏|  ETA: 0:00:02\u001b[39m\u001b[K"
     ]
    },
    {
     "name": "stderr",
     "output_type": "stream",
     "text": [
      "\r\u001b[32mProgress: 100%|█████████████████████████████████████████| Time: 0:02:00\u001b[39m\u001b[K\n"
     ]
    }
   ],
   "source": [
    "using GLMakie\n",
    "using Trapz\n",
    "using ProgressMeter\n",
    "using Base.Threads\n",
    "\n",
    "include(\"src/cluster_synch.jl\")\n",
    "include(\"src/network_sol_analysis.jl\")\n",
    "\n",
    "N_d = 50\n",
    "N_realizations = 10\n",
    "d_sweep = range(0.005, 0.025, length=N_d)\n",
    "t_measurement = 500.0\n",
    "t_transient = 1000.0\n",
    "cluster_synch_averages = zeros(N_d, 3)\n",
    "global_synch_averages = zeros(N_d)\n",
    "\n",
    "f = Figure(size=(800, 600))\n",
    "uni_clusters = unique(clusters)\n",
    "@showprogress for k in 1:N_d\n",
    "    σ = d_sweep[k]\n",
    "    temp = zeros(N_realizations, 3)\n",
    "    for realization in 1:N_realizations\n",
    "        x_0 = zeros(2*N) + 0.0001 .* randn(2*N)\n",
    "        prob = ODEProblem((dx, x, params, t) -> coupled_fhn_eom!(dx, x, params[1], params[2], params[3], G, b), x_0, (0.0, t_transient + t_measurement), [a, eps, σ])\n",
    "        # alg = Tsit5()\n",
    "        sol = solve(prob; dtmax=0.5)\n",
    "        t_val, global_synch = synch_error_time_series(sol)\n",
    "        global_synch_averages[k] += trapz(t_val[findfirst(t_val .> t_transient):end], global_synch[findfirst(t_val .> t_transient):end])/(t_measurement * N_realizations)\n",
    "        for (i, cluster) in enumerate(uni_clusters)\n",
    "            if isempty(cluster)\n",
    "                continue\n",
    "            else\n",
    "                if i .< length(uni_clusters) && !isempty(uni_clusters[i+1])\n",
    "                    cluster = setdiff(cluster[1], uni_clusters[i+1][1])\n",
    "                else\n",
    "                    cluster = cluster[1]\n",
    "                end\n",
    "                t_values, synch_error = local_synch_error(sol, cluster)\n",
    "                # cluster_synch_averages[k, i] += trapz(t_values[findfirst(t_values .> t_transient):end], synch_error[findfirst(t_values .> t_transient):end])/(t_measurement * N_realizations)\n",
    "                temp[realization, i] = trapz(t_values[findfirst(t_values .> t_transient):end], synch_error[findfirst(t_values .> t_transient):end])/(t_measurement * N_realizations)\n",
    "            end\n",
    "        end\n",
    "    end\n",
    "    cluster_synch_averages[k, :] = sum(temp, dims=1)\n",
    "end\n",
    "\n",
    "ax = Axis(f[1, 1])\n",
    "ax.xlabel = \"Coupling Strength\"\n",
    "ax.ylabel = \"Average Synch Error\"\n",
    "for i in 1:3\n",
    "    cluster = uni_clusters[i]\n",
    "    if i .< length(uni_clusters) && !isempty(uni_clusters[i+1])\n",
    "        cluster = setdiff(cluster[1], uni_clusters[i+1][1])\n",
    "    else\n",
    "        cluster = cluster[1]\n",
    "    end\n",
    "    lines!(ax, d_sweep, cluster_synch_averages[:, i]; label=\"Cluster $cluster\", linewidth=1)\n",
    "end\n",
    "lines!(ax, d_sweep, global_synch_averages; label=\"Global\", linestyle=:dash)\n",
    "vlines!(ax, critical_couplings; label=\"Critical Couplings\", linewidth=1, color = :red)\n",
    "axislegend()\n",
    "display(f);\n"
   ]
  },
  {
   "cell_type": "code",
   "execution_count": 54,
   "metadata": {},
   "outputs": [],
   "source": [
    "include(\"src/network_sol_analysis.jl\")\n",
    "using GLMakie\n",
    "using LaTeXStrings\n",
    "\n",
    "f = Figure(size = (800, 200))\n",
    "ax = Axis(f[1, 1])\n",
    "ax.title = \"Kuramoto Order Parameter\"\n",
    "ax.xlabel = \"Time\"\n",
    "ax.ylabel = \"Kuramoto Order Parameter\"\n",
    "t_val, kuramoto_val = kuramoto_time_series(sol, N)\n",
    "lines!(ax, t_val, kuramoto_val)\n",
    "f"
   ]
  },
  {
   "cell_type": "markdown",
   "metadata": {},
   "source": [
    "### Now for a watts-strogatz matrix"
   ]
  },
  {
   "cell_type": "code",
   "execution_count": 31,
   "metadata": {},
   "outputs": [
    {
     "name": "stdout",
     "output_type": "stream",
     "text": [
      "Critical Couplings: [0.235289889608469, 0.17583938066652555, 0.16413772750294423, 0.15089196914182765, 0.14352961414231719, 0.11644659458982634, 0.11086478202868306, 0.10936301116925075, 0.09615916285208445, 0.09405948488914877, 0.09185608718066297, 0.07928653447674934, 0.07721712721407267, 0.07573706152893474, 0.07061230088094644, 0.06732985975561522, 0.06413010578232939, 0.06276642235336631, 0.06077133232649208, 0.05988878006086601, 0.05712669149576276, 0.05596471203686149, 0.054424191911915026, 0.05228040369777671, 0.050985682457294075, 0.049406348143452926, 0.048138998525791975, 0.046734292781802994, 0.0457433812007647, 0.04521363266193584, 0.04486710544211667, 0.04324752715688891, 0.04249461715948622, 0.0416807496052846, 0.04124538499372167, 0.040446569274938775, 0.03964174052892116, 0.03961117502432488, 0.0390057706168598, 0.03856323263685014, 0.03674441505934977, 0.03634939587890362, 0.03604866032959124, 0.03495662584724902, 0.03469531432578865, 0.03424432251845193, 0.03389188300515311, 0.03294146335555223, 0.03278060646955984, 0.03253916937190167, 0.032476065372505095, 0.0323717781350297, 0.031604660150977494, 0.03150566269063788, 0.030940172513506007, 0.03087974690091475, 0.030304127754127913, 0.029904400543164615, 0.02951895702465274, 0.029289720646373488, 0.028862290651509186, 0.028412400315237257, 0.028328893415838243, 0.028027441303740873, 0.027694593066255154, 0.027517546390636825, 0.026875537461268556, 0.026669753768474753, 0.026248285941795492, 0.026172806808224078, 0.02593893661766313, 0.02565258833836535, 0.02556484230097718, 0.025092570693966462, 0.024873547891475268, 0.024665374451649548, 0.02435215126420902, 0.024116951906709892, 0.023985689220978677, 0.023906623192170455, 0.023593363549077623, 0.023200341941990197, 0.02300647771713957, 0.02274487014199969, 0.022551592726582772, 0.022297034994417982, 0.022235925992029042, 0.021904398338101483, 0.021673328239133025, 0.021473914361166656, 0.021207659258542864, 0.02103986956144523, 0.0208610596906764, 0.02055891616401176, 0.020161075389729093, 0.019660117767030815, 0.01894219953180049, 0.018578122833071434, 0.017950554949875495]\n",
      "Eigenvalues: [0.86586897, 1.1586154, 1.24121503, 1.35017268, 1.41942982, 1.74955923, 1.83764592, 1.86288044, 2.11867708, 2.16597204, 2.21792829, 2.56954369, 2.63840707, 2.68996724, 2.88519439, 3.02585235, 3.17682642, 3.24584717, 3.35240658, 3.40180939, 3.56628765, 3.64033347, 3.74337601, 3.89687531, 3.99583186, 4.12356351, 4.23212407, 4.35933021, 4.45376378, 4.5059466, 4.54074789, 4.71079453, 4.79425932, 4.88787309, 4.93946691, 5.03702089, 5.1392853, 5.14325097, 5.22307882, 5.28301702, 5.54452191, 5.6047758, 5.65153358, 5.82808579, 5.87198065, 5.94931362, 6.01118015, 6.18461336, 6.21496172, 6.26107606, 6.27324191, 6.29345146, 6.44620804, 6.46646339, 6.58465024, 6.59753511, 6.7228536, 6.81271688, 6.90167387, 6.95568991, 7.05869873, 7.17046825, 7.1916051, 7.26895517, 7.35631731, 7.40364753, 7.58050754, 7.6389987, 7.76165784, 7.7840415, 7.85422384, 7.941897, 7.96915592, 8.11914478, 8.19063751, 8.25976572, 8.3660048, 8.44759384, 8.49382365, 8.52191515, 8.63506443, 8.78134533, 8.85534139, 8.957194, 9.03396123, 9.13709892, 9.16220959, 9.30088155, 9.40004286, 9.48733477, 9.6064451, 9.68305501, 9.76605299, 9.90957951, 10.10512636, 10.36261414, 10.75536207, 10.96613561, 11.34952178]\n",
      "clusters: Any[[[1, 2, 3, 4, 5, 6, 7, 8, 9, 10, 11, 12, 13, 14, 15, 16, 17, 18, 19, 20, 21, 22, 23, 24, 25, 26, 27, 28, 29, 30, 31, 32, 33, 34, 35, 36, 37, 38, 39, 40, 41, 42, 43, 44, 45, 46, 47, 48, 49, 50, 51, 52, 53, 54, 55, 56, 57, 58, 59, 60, 61, 62, 63, 64, 65, 66, 67, 68, 69, 70, 71, 72, 73, 74, 75, 76, 77, 78, 79, 80, 81, 82, 83, 84, 85, 86, 87, 88, 89, 90, 91, 92, 93, 94, 95, 96, 97, 98, 99, 100]], [[1, 2, 3, 4, 5, 6, 7, 8, 9, 10, 11, 12, 13, 14, 15, 16, 17, 18, 19, 20, 21, 22, 23, 24, 25, 26, 27, 28, 29, 30, 31, 32, 33, 34, 35, 36, 37, 38, 39, 40, 41, 42, 43, 44, 45, 46, 47, 48, 49, 50, 51, 52, 53, 54, 55, 56, 57, 58, 59, 60, 61, 62, 63, 64, 65, 66, 67, 68, 69, 70, 71, 72, 73, 74, 75, 76, 77, 78, 79, 80, 81, 82, 83, 84, 85, 86, 87, 88, 89, 90, 91, 92, 93, 94, 95, 96, 97, 98, 99, 100]], [[4, 29], [14, 38], [51, 52]], Vector{Int64}[], Vector{Int64}[], Vector{Int64}[], Vector{Int64}[], Vector{Int64}[], Vector{Int64}[], Vector{Int64}[], Vector{Int64}[], Vector{Int64}[], Vector{Int64}[], Vector{Int64}[], Vector{Int64}[], Vector{Int64}[], Vector{Int64}[], Vector{Int64}[], Vector{Int64}[], Vector{Int64}[], Vector{Int64}[], Vector{Int64}[], Vector{Int64}[], Vector{Int64}[], Vector{Int64}[], Vector{Int64}[], Vector{Int64}[], Vector{Int64}[], Vector{Int64}[], Vector{Int64}[], Vector{Int64}[], Vector{Int64}[], Vector{Int64}[], Vector{Int64}[], Vector{Int64}[], Vector{Int64}[], Vector{Int64}[], Vector{Int64}[], Vector{Int64}[], Vector{Int64}[], Vector{Int64}[], Vector{Int64}[], Vector{Int64}[], Vector{Int64}[], Vector{Int64}[], Vector{Int64}[], Vector{Int64}[], Vector{Int64}[], Vector{Int64}[], Vector{Int64}[], Vector{Int64}[], Vector{Int64}[], Vector{Int64}[], Vector{Int64}[], Vector{Int64}[], Vector{Int64}[], Vector{Int64}[], Vector{Int64}[], Vector{Int64}[], Vector{Int64}[], Vector{Int64}[], Vector{Int64}[], Vector{Int64}[], Vector{Int64}[], Vector{Int64}[], Vector{Int64}[], Vector{Int64}[], Vector{Int64}[], Vector{Int64}[], Vector{Int64}[], Vector{Int64}[], Vector{Int64}[], Vector{Int64}[], Vector{Int64}[], Vector{Int64}[], Vector{Int64}[], Vector{Int64}[], Vector{Int64}[], Vector{Int64}[], Vector{Int64}[], Vector{Int64}[], Vector{Int64}[], Vector{Int64}[], Vector{Int64}[], Vector{Int64}[], Vector{Int64}[], Vector{Int64}[], Vector{Int64}[], Vector{Int64}[], Vector{Int64}[], Vector{Int64}[], Vector{Int64}[], Vector{Int64}[], Vector{Int64}[], Vector{Int64}[], Vector{Int64}[], Vector{Int64}[], Vector{Int64}[], Vector{Int64}[], Vector{Int64}[]]\n",
      "len_clusters: 100\n"
     ]
    },
    {
     "data": {
      "text/plain": [
       "0.3529348344127035"
      ]
     },
     "metadata": {},
     "output_type": "display_data"
    }
   ],
   "source": [
    "include(\"src/network_matrices_creation.jl\")\n",
    "include(\"src/cluster_synch.jl\")\n",
    "include(\"src/network_simulation.jl\")\n",
    "\n",
    "N = 100\n",
    "eps = 0.05\n",
    "a = 0.5\n",
    "b = bmatrix(pi/2-0.1, eps)\n",
    "G = wattsstrogatzmatrix(N, 3, 0.3);\n",
    "eigenvalues, eigenvectors, clusters, s_matrices = s_matrix_method(G)\n",
    "eigenvalues = unique(round.(eigenvalues, digits=8))[2:end]\n",
    "critical_couplings = zero_msf./eigenvalues #unique(zero_msf./eigenvalues)[2:end]#\n",
    "println(\"Critical Couplings: \", critical_couplings)\n",
    "println(\"Eigenvalues: \", eigenvalues)\n",
    "println(\"clusters: \", clusters)\n",
    "println(\"len_clusters: \", length(clusters))\n",
    "σ = critical_couplings[1]*1.5"
   ]
  },
  {
   "cell_type": "code",
   "execution_count": 37,
   "metadata": {},
   "outputs": [
    {
     "name": "stdout",
     "output_type": "stream",
     "text": [
      "σ = 0.14496491028374037\n"
     ]
    }
   ],
   "source": [
    "include(\"src/network_simulation.jl\")\n",
    "using Random\n",
    "σ = critical_couplings[5]*1.01\n",
    "println(\"σ = \", σ)\n",
    "x_0 = zeros(2*N)\n",
    "x_0[2 .* (1:N) .- 1] = rand(N) .* 2 .* a .- a\n",
    "x_0[2 .* (1:N)] = rand(N) .* 2 .* (-a + a^3 / 3) .- (-a + a^3 / 3)\n",
    "prob = ODEProblem((dx, x, params, t) -> coupled_fhn_eom!(dx, x, params[1], params[2], params[3], G, b), x_0, (0.0, 1000.0), [a, eps, σ])\n",
    "sol = solve(prob; dtmax=0.9);"
   ]
  },
  {
   "cell_type": "code",
   "execution_count": 38,
   "metadata": {},
   "outputs": [],
   "source": [
    "include(\"src/network_sol_analysis.jl\")\n",
    "st_plot(sol, 150, 300;skip_every=1)"
   ]
  }
 ],
 "metadata": {
  "kernelspec": {
   "display_name": "Julia 1.10.0",
   "language": "julia",
   "name": "julia-1.10"
  },
  "language_info": {
   "file_extension": ".jl",
   "mimetype": "application/julia",
   "name": "julia",
   "version": "1.10.0"
  }
 },
 "nbformat": 4,
 "nbformat_minor": 2
}
