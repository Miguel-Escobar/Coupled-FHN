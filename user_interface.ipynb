{
 "cells": [
  {
   "cell_type": "markdown",
   "metadata": {},
   "source": [
    "## Study Cluster Synchronization in the integration of the FHN model."
   ]
  },
  {
   "cell_type": "markdown",
   "metadata": {},
   "source": [
    "### First, a test\n",
    "\n",
    "Based on what is shown in the paper (https://doi.org/10.48550/arXiv.2303.08668), first we test with a complete graph."
   ]
  },
  {
   "cell_type": "code",
   "execution_count": 1,
   "metadata": {},
   "outputs": [
    {
     "name": "stdout",
     "output_type": "stream",
     "text": [
      "zero_msf = 0.20373021436669875\n",
      "msf = "
     ]
    },
    {
     "name": "stdout",
     "output_type": "stream",
     "text": [
      "6.6612382763443796e-18\n"
     ]
    }
   ],
   "source": [
    "include(\"src/msf.jl\")\n",
    "zero_msf = msf_zero()\n",
    "println(\"zero_msf = \", zero_msf)\n",
    "println(\"msf = \", master_stability_function(zero_msf, 0))"
   ]
  },
  {
   "cell_type": "code",
   "execution_count": 2,
   "metadata": {},
   "outputs": [
    {
     "name": "stdout",
     "output_type": "stream",
     "text": [
      "Critical Couplings: [0.020373021436669875, 0.011984130256864633, 0.009701438779366607]\n",
      "Eigenvalues: [10.0, 17.0, 21.0]\n"
     ]
    },
    {
     "data": {
      "text/plain": [
       "0.01067158265730327"
      ]
     },
     "metadata": {},
     "output_type": "display_data"
    }
   ],
   "source": [
    "include(\"src/network_matrices_creation.jl\")\n",
    "include(\"src/cluster_synch.jl\")\n",
    "include(\"src/network_simulation.jl\")\n",
    "\n",
    "N = 10\n",
    "eps = 0.05\n",
    "a = 0.5\n",
    "b = bmatrix(pi/2-0.1, eps)\n",
    "G = test_matrix_for_cluster_synch();\n",
    "eigenvalues, eigenvectors, clusters, s_matrices = s_matrix_method(G)\n",
    "eigenvalues = unique(round.(eigenvalues, digits=8))[2:end]\n",
    "critical_couplings = zero_msf./eigenvalues #unique(zero_msf./eigenvalues)[2:end]#\n",
    "println(\"Critical Couplings: \", critical_couplings)\n",
    "println(\"Eigenvalues: \", eigenvalues)\n",
    "σ = critical_couplings[3]*1.1\n"
   ]
  },
  {
   "cell_type": "code",
   "execution_count": 53,
   "metadata": {},
   "outputs": [],
   "source": [
    "include(\"src/network_simulation.jl\")\n",
    "using Random\n",
    "x_0 = zeros(2*N)\n",
    "x_0[2 .* (1:N) .- 1] = rand(N) .* 2 .* a .- a\n",
    "x_0[2 .* (1:N)] = rand(N) .* 2 .* (-a + a^3 / 3) .- (-a + a^3 / 3)\n",
    "prob = ODEProblem((dx, x, params, t) -> coupled_fhn_eom!(dx, x, params[1], params[2], params[3], G, b), x_0, (0.0, 1000.0), [a, eps, σ])\n",
    "sol = solve(prob; dtmax=0.9);"
   ]
  },
  {
   "cell_type": "code",
   "execution_count": 54,
   "metadata": {},
   "outputs": [],
   "source": [
    "using GLMakie\n",
    "include(\"src/cluster_synch.jl\")\n",
    "include(\"src/network_sol_analysis.jl\")\n",
    "\n",
    "colors = [\"#5ec962\", \"#21918c\", \"#3b528b\"]\n",
    "f = Figure(size= (1000, 600))\n",
    "uni_clusters = unique(clusters)\n",
    "for (i, cluster) in enumerate(uni_clusters)\n",
    "    if isempty(cluster)\n",
    "        continue\n",
    "    else\n",
    "        if i .< length(uni_clusters) && !isempty(uni_clusters[i+1])\n",
    "            cluster = setdiff(cluster[1], uni_clusters[i+1][1])\n",
    "        else\n",
    "            cluster = cluster[1]\n",
    "        end\n",
    "        println(\"Cluster $i: $cluster\")\n",
    "\n",
    "        ax = Axis(f[i, 1])\n",
    "        ax.xlabel = \"Time\"\n",
    "        ax.ylabel = \"Synch Error\"\n",
    "        t_values, synch_error = local_synch_error(sol, cluster)\n",
    "        lines!(ax, t_values, synch_error; label=\"Cluster $cluster\", linewidth=1, color = colors[i])\n",
    "        axislegend()\n",
    "    end\n",
    "end\n",
    "display(f);"
   ]
  },
  {
   "cell_type": "code",
   "execution_count": 55,
   "metadata": {},
   "outputs": [],
   "source": [
    "st_plot(sol, 500, 1000;skip_every=1)"
   ]
  },
  {
   "cell_type": "code",
   "execution_count": 23,
   "metadata": {},
   "outputs": [
    {
     "name": "stderr",
     "output_type": "stream",
     "text": [
      "\r\u001b[32mProgress:   4%|█▋                                       |  ETA: 0:06:41\u001b[39m\u001b[K"
     ]
    },
    {
     "name": "stderr",
     "output_type": "stream",
     "text": [
      "\r\u001b[32mProgress:   6%|██▌                                      |  ETA: 0:06:33\u001b[39m\u001b[K"
     ]
    },
    {
     "name": "stderr",
     "output_type": "stream",
     "text": [
      "\r\u001b[32mProgress:   8%|███▎                                     |  ETA: 0:06:25\u001b[39m\u001b[K"
     ]
    },
    {
     "name": "stderr",
     "output_type": "stream",
     "text": [
      "\r\u001b[32mProgress:  10%|████▏                                    |  ETA: 0:06:17\u001b[39m\u001b[K"
     ]
    },
    {
     "name": "stderr",
     "output_type": "stream",
     "text": [
      "\r\u001b[32mProgress:  12%|████▉                                    |  ETA: 0:06:07\u001b[39m\u001b[K"
     ]
    },
    {
     "name": "stderr",
     "output_type": "stream",
     "text": [
      "\r\u001b[32mProgress:  14%|█████▊                                   |  ETA: 0:05:56\u001b[39m\u001b[K"
     ]
    },
    {
     "name": "stderr",
     "output_type": "stream",
     "text": [
      "\r\u001b[32mProgress:  16%|██████▌                                  |  ETA: 0:05:45\u001b[39m\u001b[K"
     ]
    },
    {
     "name": "stderr",
     "output_type": "stream",
     "text": [
      "\r\u001b[32mProgress:  18%|███████▍                                 |  ETA: 0:05:33\u001b[39m\u001b[K"
     ]
    },
    {
     "name": "stderr",
     "output_type": "stream",
     "text": [
      "\r\u001b[32mProgress:  20%|████████▎                                |  ETA: 0:05:23\u001b[39m\u001b[K"
     ]
    },
    {
     "name": "stderr",
     "output_type": "stream",
     "text": [
      "\r\u001b[32mProgress:  22%|█████████                                |  ETA: 0:05:13\u001b[39m\u001b[K"
     ]
    },
    {
     "name": "stderr",
     "output_type": "stream",
     "text": [
      "\r\u001b[32mProgress:  24%|█████████▉                               |  ETA: 0:05:03\u001b[39m\u001b[K"
     ]
    },
    {
     "name": "stderr",
     "output_type": "stream",
     "text": [
      "\r\u001b[32mProgress:  26%|██████████▋                              |  ETA: 0:04:54\u001b[39m\u001b[K"
     ]
    },
    {
     "name": "stderr",
     "output_type": "stream",
     "text": [
      "\r\u001b[32mProgress:  28%|███████████▌                             |  ETA: 0:04:44\u001b[39m\u001b[K"
     ]
    },
    {
     "name": "stderr",
     "output_type": "stream",
     "text": [
      "\r\u001b[32mProgress:  30%|████████████▎                            |  ETA: 0:04:35\u001b[39m\u001b[K"
     ]
    },
    {
     "name": "stderr",
     "output_type": "stream",
     "text": [
      "\r\u001b[32mProgress:  32%|█████████████▏                           |  ETA: 0:04:26\u001b[39m\u001b[K"
     ]
    },
    {
     "name": "stderr",
     "output_type": "stream",
     "text": [
      "\r\u001b[32mProgress:  34%|██████████████                           |  ETA: 0:04:17\u001b[39m\u001b[K"
     ]
    },
    {
     "name": "stderr",
     "output_type": "stream",
     "text": [
      "\r\u001b[32mProgress:  36%|██████████████▊                          |  ETA: 0:04:08\u001b[39m\u001b[K"
     ]
    },
    {
     "name": "stderr",
     "output_type": "stream",
     "text": [
      "\r\u001b[32mProgress:  38%|███████████████▋                         |  ETA: 0:04:00\u001b[39m\u001b[K"
     ]
    },
    {
     "name": "stderr",
     "output_type": "stream",
     "text": [
      "\r\u001b[32mProgress:  40%|████████████████▍                        |  ETA: 0:03:51\u001b[39m\u001b[K"
     ]
    },
    {
     "name": "stderr",
     "output_type": "stream",
     "text": [
      "\r\u001b[32mProgress:  42%|█████████████████▎                       |  ETA: 0:03:43\u001b[39m\u001b[K"
     ]
    },
    {
     "name": "stderr",
     "output_type": "stream",
     "text": [
      "\r\u001b[32mProgress:  44%|██████████████████                       |  ETA: 0:03:34\u001b[39m\u001b[K"
     ]
    },
    {
     "name": "stderr",
     "output_type": "stream",
     "text": [
      "\r\u001b[32mProgress:  46%|██████████████████▉                      |  ETA: 0:03:26\u001b[39m\u001b[K"
     ]
    },
    {
     "name": "stderr",
     "output_type": "stream",
     "text": [
      "\r\u001b[32mProgress:  48%|███████████████████▋                     |  ETA: 0:03:18\u001b[39m\u001b[K"
     ]
    },
    {
     "name": "stderr",
     "output_type": "stream",
     "text": [
      "\r\u001b[32mProgress:  50%|████████████████████▌                    |  ETA: 0:03:10\u001b[39m\u001b[K"
     ]
    },
    {
     "name": "stderr",
     "output_type": "stream",
     "text": [
      "\r\u001b[32mProgress:  52%|█████████████████████▍                   |  ETA: 0:03:02\u001b[39m\u001b[K"
     ]
    },
    {
     "name": "stderr",
     "output_type": "stream",
     "text": [
      "\r\u001b[32mProgress:  54%|██████████████████████▏                  |  ETA: 0:02:54\u001b[39m\u001b[K"
     ]
    },
    {
     "name": "stderr",
     "output_type": "stream",
     "text": [
      "\r\u001b[32mProgress:  56%|███████████████████████                  |  ETA: 0:02:46\u001b[39m\u001b[K"
     ]
    },
    {
     "name": "stderr",
     "output_type": "stream",
     "text": [
      "\r\u001b[32mProgress:  58%|███████████████████████▊                 |  ETA: 0:02:38\u001b[39m\u001b[K"
     ]
    },
    {
     "name": "stderr",
     "output_type": "stream",
     "text": [
      "\r\u001b[32mProgress:  60%|████████████████████████▋                |  ETA: 0:02:30\u001b[39m\u001b[K"
     ]
    },
    {
     "name": "stderr",
     "output_type": "stream",
     "text": [
      "\r\u001b[32mProgress:  62%|█████████████████████████▍               |  ETA: 0:02:22\u001b[39m\u001b[K"
     ]
    },
    {
     "name": "stderr",
     "output_type": "stream",
     "text": [
      "\r\u001b[32mProgress:  64%|██████████████████████████▎              |  ETA: 0:02:15\u001b[39m\u001b[K"
     ]
    },
    {
     "name": "stderr",
     "output_type": "stream",
     "text": [
      "\r\u001b[32mProgress:  66%|███████████████████████████              |  ETA: 0:02:07\u001b[39m\u001b[K"
     ]
    },
    {
     "name": "stderr",
     "output_type": "stream",
     "text": [
      "\r\u001b[32mProgress:  68%|███████████████████████████▉             |  ETA: 0:01:59\u001b[39m\u001b[K"
     ]
    },
    {
     "name": "stderr",
     "output_type": "stream",
     "text": [
      "\r\u001b[32mProgress:  70%|████████████████████████████▊            |  ETA: 0:01:51\u001b[39m\u001b[K"
     ]
    },
    {
     "name": "stderr",
     "output_type": "stream",
     "text": [
      "\r\u001b[32mProgress:  72%|█████████████████████████████▌           |  ETA: 0:01:44\u001b[39m\u001b[K"
     ]
    },
    {
     "name": "stderr",
     "output_type": "stream",
     "text": [
      "\r\u001b[32mProgress:  74%|██████████████████████████████▍          |  ETA: 0:01:36\u001b[39m\u001b[K"
     ]
    },
    {
     "name": "stderr",
     "output_type": "stream",
     "text": [
      "\r\u001b[32mProgress:  76%|███████████████████████████████▏         |  ETA: 0:01:29\u001b[39m\u001b[K"
     ]
    },
    {
     "name": "stderr",
     "output_type": "stream",
     "text": [
      "\r\u001b[32mProgress:  78%|████████████████████████████████         |  ETA: 0:01:21\u001b[39m\u001b[K"
     ]
    },
    {
     "name": "stderr",
     "output_type": "stream",
     "text": [
      "\r\u001b[32mProgress:  80%|████████████████████████████████▊        |  ETA: 0:01:14\u001b[39m\u001b[K"
     ]
    },
    {
     "name": "stderr",
     "output_type": "stream",
     "text": [
      "\r\u001b[32mProgress:  82%|█████████████████████████████████▋       |  ETA: 0:01:06\u001b[39m\u001b[K"
     ]
    },
    {
     "name": "stderr",
     "output_type": "stream",
     "text": [
      "\r\u001b[32mProgress:  84%|██████████████████████████████████▌      |  ETA: 0:00:59\u001b[39m\u001b[K"
     ]
    },
    {
     "name": "stderr",
     "output_type": "stream",
     "text": [
      "\r\u001b[32mProgress:  86%|███████████████████████████████████▎     |  ETA: 0:00:51\u001b[39m\u001b[K"
     ]
    },
    {
     "name": "stderr",
     "output_type": "stream",
     "text": [
      "\r\u001b[32mProgress:  88%|████████████████████████████████████▏    |  ETA: 0:00:44\u001b[39m\u001b[K"
     ]
    },
    {
     "name": "stderr",
     "output_type": "stream",
     "text": [
      "\r\u001b[32mProgress:  90%|████████████████████████████████████▉    |  ETA: 0:00:37\u001b[39m\u001b[K"
     ]
    },
    {
     "name": "stderr",
     "output_type": "stream",
     "text": [
      "\r\u001b[32mProgress:  92%|█████████████████████████████████████▊   |  ETA: 0:00:29\u001b[39m\u001b[K"
     ]
    },
    {
     "name": "stderr",
     "output_type": "stream",
     "text": [
      "\r\u001b[32mProgress:  94%|██████████████████████████████████████▌  |  ETA: 0:00:22\u001b[39m\u001b[K"
     ]
    },
    {
     "name": "stderr",
     "output_type": "stream",
     "text": [
      "\r\u001b[32mProgress:  96%|███████████████████████████████████████▍ |  ETA: 0:00:15\u001b[39m\u001b[K"
     ]
    },
    {
     "name": "stderr",
     "output_type": "stream",
     "text": [
      "\r\u001b[32mProgress:  98%|████████████████████████████████████████▏|  ETA: 0:00:07\u001b[39m\u001b[K"
     ]
    },
    {
     "name": "stderr",
     "output_type": "stream",
     "text": [
      "\r\u001b[32mProgress: 100%|█████████████████████████████████████████| Time: 0:06:02\u001b[39m\u001b[K\n"
     ]
    }
   ],
   "source": [
    "using GLMakie\n",
    "using Trapz\n",
    "using ProgressMeter\n",
    "using Base.Threads\n",
    "\n",
    "include(\"src/cluster_synch.jl\")\n",
    "include(\"src/network_sol_analysis.jl\")\n",
    "\n",
    "N_d = 50\n",
    "N_realizations = 100\n",
    "d_sweep = range(0.005, 0.025, length=N_d)\n",
    "t_measurement = 300.0\n",
    "t_transient = 0.0\n",
    "cluster_synch_averages = zeros(N_d, 3)\n",
    "global_synch_averages = zeros(N_d)\n",
    "\n",
    "f = Figure(size=(800, 600))\n",
    "uni_clusters = unique(clusters)\n",
    "@showprogress for k in 1:N_d\n",
    "    σ = d_sweep[k]\n",
    "    temp = zeros(N_realizations, 3)\n",
    "    for realization in 1:N_realizations\n",
    "        x_0 = zeros(2*N) + 0.0001 .* randn(2*N)\n",
    "        prob = ODEProblem((dx, x, params, t) -> coupled_fhn_eom!(dx, x, params[1], params[2], params[3], G, b), x_0, (0.0, t_transient + t_measurement), [a, eps, σ])\n",
    "        # alg = Tsit5()\n",
    "        sol = solve(prob; dtmax=0.5)\n",
    "        t_val, global_synch = synch_error_time_series(sol)\n",
    "        global_synch_averages[k] += trapz(t_val[findfirst(t_val .> t_transient):end], global_synch[findfirst(t_val .> t_transient):end])/(t_measurement * N_realizations)\n",
    "        for (i, cluster) in enumerate(uni_clusters)\n",
    "            if isempty(cluster)\n",
    "                continue\n",
    "            else\n",
    "                if i .< length(uni_clusters) && !isempty(uni_clusters[i+1])\n",
    "                    cluster = setdiff(cluster[1], uni_clusters[i+1][1])\n",
    "                else\n",
    "                    cluster = cluster[1]\n",
    "                end\n",
    "                t_values, synch_error = local_synch_error(sol, cluster)\n",
    "                # cluster_synch_averages[k, i] += trapz(t_values[findfirst(t_values .> t_transient):end], synch_error[findfirst(t_values .> t_transient):end])/(t_measurement * N_realizations)\n",
    "                temp[realization, i] = trapz(t_values[findfirst(t_values .> t_transient):end], synch_error[findfirst(t_values .> t_transient):end])/(t_measurement * N_realizations)\n",
    "            end\n",
    "        end\n",
    "    end\n",
    "    cluster_synch_averages[k, :] = sum(temp, dims=1)\n",
    "end\n",
    "\n",
    "ax = Axis(f[1, 1])\n",
    "ax.xlabel = \"Coupling Strength\"\n",
    "ax.ylabel = \"Average Synch Error\"\n",
    "for i in 1:3\n",
    "    cluster = uni_clusters[i]\n",
    "    if i .< length(uni_clusters) && !isempty(uni_clusters[i+1])\n",
    "        cluster = setdiff(cluster[1], uni_clusters[i+1][1])\n",
    "    else\n",
    "        cluster = cluster[1]\n",
    "    end\n",
    "    lines!(ax, d_sweep, cluster_synch_averages[:, i]; label=\"Cluster $cluster\", linewidth=1)\n",
    "end\n",
    "lines!(ax, d_sweep, global_synch_averages; label=\"Global\", linestyle=:dash)\n",
    "vlines!(ax, critical_couplings; label=\"Critical Couplings\", linewidth=1, color = :red)\n",
    "axislegend()\n",
    "display(f);\n"
   ]
  },
  {
   "cell_type": "code",
   "execution_count": 9,
   "metadata": {},
   "outputs": [],
   "source": [
    "include(\"src/network_sol_analysis.jl\")\n",
    "using GLMakie\n",
    "using LaTeXStrings\n",
    "\n",
    "f = Figure(size = (800, 200))\n",
    "ax = Axis(f[1, 1])\n",
    "ax.title = \"Kuramoto Order Parameter\"\n",
    "ax.xlabel = \"Time\"\n",
    "ax.ylabel = \"Kuramoto Order Parameter\"\n",
    "t_val, kuramoto_val = kuramoto_time_series(sol, N)\n",
    "lines!(ax, t_val, kuramoto_val)\n",
    "f"
   ]
  },
  {
   "cell_type": "markdown",
   "metadata": {},
   "source": [
    "### Let's see if we can spot hysteresis"
   ]
  }
 ],
 "metadata": {
  "kernelspec": {
   "display_name": "Julia 1.10.0",
   "language": "julia",
   "name": "julia-1.10"
  },
  "language_info": {
   "file_extension": ".jl",
   "mimetype": "application/julia",
   "name": "julia",
   "version": "1.10.0"
  }
 },
 "nbformat": 4,
 "nbformat_minor": 2
}
