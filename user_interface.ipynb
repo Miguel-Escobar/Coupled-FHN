{
 "cells": [
  {
   "cell_type": "markdown",
   "metadata": {},
   "source": [
    "## Study Cluster Synchronization in the integration of the FHN model.\n",
    "\n",
    "A personal notebook for the study of the synchronization of clusters in the FitzHugh-Nagumo model. This is meant for quick and dirty exploration of ideas, so it will not be too readable. Sorry!"
   ]
  },
  {
   "cell_type": "markdown",
   "metadata": {},
   "source": [
    "### First, a test\n",
    "\n",
    "Based on what is shown in the paper (https://doi.org/10.48550/arXiv.2303.08668), first we test with a complete graph."
   ]
  },
  {
   "cell_type": "code",
   "execution_count": 1,
   "metadata": {},
   "outputs": [
    {
     "name": "stdout",
     "output_type": "stream",
     "text": [
      "zero_msf = 0.2036388465071553\n",
      "msf = 5.772580900970296e-18\n",
      "5.772580900970296e-18\n"
     ]
    }
   ],
   "source": [
    "include(\"src/msf.jl\")\n",
    "zero_msf = msf_zero()\n",
    "println(\"zero_msf = \", zero_msf)\n",
    "println(\"msf = \", master_stability_function(zero_msf, 0))"
   ]
  },
  {
   "cell_type": "code",
   "execution_count": 54,
   "metadata": {},
   "outputs": [
    {
     "name": "stdout",
     "output_type": "stream",
     "text": [
      "Critical Couplings: [0.02036388465071553, 0.011978755676891488, 0.009697087928912157]\n",
      "Eigenvalues: [10.0, 17.0, 21.0]\n"
     ]
    },
    {
     "data": {
      "text/plain": [
       "0.01078088010920234"
      ]
     },
     "metadata": {},
     "output_type": "display_data"
    }
   ],
   "source": [
    "include(\"src/network_matrices_creation.jl\")\n",
    "include(\"src/cluster_synch.jl\")\n",
    "include(\"src/network_simulation.jl\")\n",
    "\n",
    "N = 10\n",
    "eps = 0.05\n",
    "a = 0.5\n",
    "b = bmatrix(pi/2-0.1, eps)\n",
    "G = test_matrix_for_cluster_synch();\n",
    "eigenvalues, eigenvectors, clusters, s_matrices = s_matrix_method(G)\n",
    "eigenvalues = unique(round.(eigenvalues, digits=8))[2:end]\n",
    "critical_couplings = zero_msf./eigenvalues #unique(zero_msf./eigenvalues)[2:end]#\n",
    "println(\"Critical Couplings: \", critical_couplings)\n",
    "println(\"Eigenvalues: \", eigenvalues)\n",
    "σ = critical_couplings[2]*0.9#*01.035\n"
   ]
  },
  {
   "cell_type": "code",
   "execution_count": 55,
   "metadata": {},
   "outputs": [],
   "source": [
    "include(\"src/network_simulation.jl\")\n",
    "using Random\n",
    "x_0 = zeros(2*N) + 0.001.*randn(2*N)\n",
    "# x_0[2 .* (1:N) .- 1] = rand(N) .* 2 .* a .- a\n",
    "# x_0[2 .* (1:N)] = rand(N) .* 2 .* (-a + a^3 / 3) .- (-a + a^3 / 3)\n",
    "prob = ODEProblem((dx, x, params, t) -> coupled_fhn_eom!(dx, x, params[1], params[2], params[3], G, b, N), x_0, (0.0, 1000.0), [a, eps, σ])\n",
    "sol = solve(prob; dtmax=0.01, maxiters=1e8);"
   ]
  },
  {
   "cell_type": "code",
   "execution_count": 59,
   "metadata": {},
   "outputs": [
    {
     "name": "stdout",
     "output_type": "stream",
     "text": [
      "Plotting\n"
     ]
    },
    {
     "data": {
      "text/plain": [
       "CairoMakie.Screen{SVG}\n"
      ]
     },
     "metadata": {},
     "output_type": "display_data"
    }
   ],
   "source": [
    "using CairoMakie\n",
    "CairoMakie.activate!(type = \"svg\")\n",
    "# using GLMakie\n",
    "include(\"src/cluster_synch.jl\")\n",
    "include(\"src/network_sol_analysis.jl\")\n",
    "\n",
    "fig = st_plot(sol, 150, 200 ; skip_every=10)\n",
    "save(\"phase_time_cluster.svg\", fig)"
   ]
  },
  {
   "cell_type": "code",
   "execution_count": 4,
   "metadata": {},
   "outputs": [
    {
     "name": "stdout",
     "output_type": "stream",
     "text": [
      "Cluster 1: [1, 2, 3]\n",
      "Cluster 2: [4, 5, 6]\n",
      "Cluster 3: [7, 8, 9, 10]\n"
     ]
    },
    {
     "data": {
      "text/plain": [
       "GLMakie.Screen(...)"
      ]
     },
     "metadata": {},
     "output_type": "display_data"
    }
   ],
   "source": [
    "# using CairoMakie\n",
    "# CairoMakie.activate!(type = \"svg\")\n",
    "using GLMakie\n",
    "include(\"src/cluster_synch.jl\")\n",
    "include(\"src/network_sol_analysis.jl\")\n",
    "\n",
    "colors = [\"#020202\",\"#878F92\", \"#B20100\", \"#6C6C6C\",  \"#BE312B\", \"#F8F8F8\", \"#FFFFFF\"]\n",
    "# f = Figure(size= (900, 600), backgroundcolor = (:transparent), fontsize = 25)\n",
    "f = Figure(size= (900, 600))\n",
    "uni_clusters = unique(clusters)\n",
    "for (i, cluster) in enumerate(uni_clusters)\n",
    "    if isempty(cluster)\n",
    "        continue\n",
    "    else\n",
    "        if i .< length(uni_clusters) && !isempty(uni_clusters[i+1])\n",
    "            cluster = setdiff(cluster[1], uni_clusters[i+1][1])\n",
    "        else\n",
    "            cluster = cluster[1]\n",
    "        end\n",
    "        println(\"Cluster $i: $cluster\")\n",
    "\n",
    "        ax = Axis(f[i, 1], backgroundcolor = :transparent)\n",
    "        ax.xlabel = \"Time\"\n",
    "        ax.ylabel = \"Synch Error\"\n",
    "        t_values, synch_error = local_synch_error(sol, cluster)\n",
    "        lines!(ax, t_values, synch_error; label=\"Neurons $cluster\", linewidth=1, color = colors[i])\n",
    "        axislegend()\n",
    "    end\n",
    "end\n",
    "\n",
    "display(f)"
   ]
  },
  {
   "cell_type": "code",
   "execution_count": 6,
   "metadata": {},
   "outputs": [
    {
     "name": "stderr",
     "output_type": "stream",
     "text": [
      "\u001b[32mProgress: 100%|█████████████████████████████████████████| Time: 0:08:25\u001b[39m\u001b[K\n"
     ]
    }
   ],
   "source": [
    "using CairoMakie\n",
    "using Trapz\n",
    "using ProgressMeter\n",
    "using Base.Threads\n",
    "\n",
    "include(\"src/cluster_synch.jl\")\n",
    "include(\"src/network_sol_analysis.jl\")\n",
    "\n",
    "N_d = 100\n",
    "N_realizations = 30\n",
    "d_sweep = range(0.005, 0.025, length=N_d)\n",
    "t_measurement = 500.0\n",
    "t_transient = 1000.0\n",
    "cluster_synchs = zeros(N_realizations, N_d, 3)\n",
    "global_synchs = zeros(N_realizations, N_d)\n",
    "\n",
    "uni_clusters = unique(clusters)\n",
    "@showprogress for k in 1:N_d\n",
    "    σ = d_sweep[k]\n",
    "    for realization in 1:N_realizations\n",
    "        x_0 = zeros(2*N) + 0.0001 .* randn(2*N)\n",
    "        prob = ODEProblem((dx, x, params, t) -> coupled_fhn_eom!(dx, x, params[1], params[2], params[3], G, b, N), x_0, (0.0, t_transient + t_measurement), [a, eps, σ])\n",
    "        # alg = Tsit5()\n",
    "        sol = solve(prob; dtmax=0.5)\n",
    "        t_val, global_synch = synch_error_time_series(sol)\n",
    "        global_synchs[realization, k] = trapz(t_val[findfirst(t_val .> t_transient):end], global_synch[findfirst(t_val .> t_transient):end])/(t_measurement)\n",
    "        for (i, cluster) in enumerate(uni_clusters)\n",
    "            if isempty(cluster)\n",
    "                continue\n",
    "            else\n",
    "                if i .< length(uni_clusters) && !isempty(uni_clusters[i+1])\n",
    "                    cluster = setdiff(cluster[1], uni_clusters[i+1][1])\n",
    "                else\n",
    "                    cluster = cluster[1]\n",
    "                end\n",
    "                t_values, synch_error = local_synch_error(sol, cluster)\n",
    "                # cluster_synch_averages[k, i] += trapz(t_values[findfirst(t_values .> t_transient):end], synch_error[findfirst(t_values .> t_transient):end])/(t_measurement * N_realizations)\n",
    "                cluster_synchs[realization, k, i] = trapz(t_values[findfirst(t_values .> t_transient):end], synch_error[findfirst(t_values .> t_transient):end])/(t_measurement)\n",
    "            end\n",
    "        end\n",
    "    end\n",
    "end\n"
   ]
  },
  {
   "cell_type": "code",
   "execution_count": 7,
   "metadata": {},
   "outputs": [
    {
     "data": {
      "text/plain": [
       "CairoMakie.Screen{SVG}\n"
      ]
     },
     "metadata": {},
     "output_type": "display_data"
    }
   ],
   "source": [
    "global_synch_averages = mean(global_synchs, dims=1)[1, :]\n",
    "cluster_synch_averages = mean(cluster_synchs, dims=1)[1, :, :]\n",
    "cluster_synch_std = std(cluster_synchs, dims=1)[1, :, :]./sqrt(N_realizations)\n",
    "colors = [\"#020202\",\"#878F92\", \"#B20100\", \"#6C6C6C\",  \"#BE312B\", \"#F8F8F8\", \"#FFFFFF\"]\n",
    "f = Figure(size= (800, 600), backgroundcolor = (:transparent), fontsize = 25)\n",
    "\n",
    "ax = Axis(f[1, 1], backgroundcolor = :transparent)\n",
    "ax.xlabel = \"σ\"\n",
    "ax.ylabel = \"Average Synch Error\"\n",
    "for i in 1:3\n",
    "    cluster = uni_clusters[i]\n",
    "    if i .< length(uni_clusters) && !isempty(uni_clusters[i+1])\n",
    "        cluster = setdiff(cluster[1], uni_clusters[i+1][1])\n",
    "    else\n",
    "        cluster = cluster[1]\n",
    "    end\n",
    "    lines!(ax, d_sweep, cluster_synch_averages[:, i]; label=\"Cluster $cluster\", color=colors[i])\n",
    "    fill_between!(ax, d_sweep, cluster_synch_averages[:, i] - cluster_synch_std[:, i],\n",
    "            cluster_synch_averages[:, i] + cluster_synch_std[:, i], color=(colors[i], 0.25))\n",
    "end\n",
    "lines!(ax, d_sweep, global_synch_averages; label=\"Global\", linestyle=:dash, color=:black)\n",
    "vlines!(ax, critical_couplings; label=\"Critical Couplings\", linewidth=1, color = :red, linestyle=:dash)\n",
    "axislegend()\n",
    "save(\"clusters_vs_coupling.svg\", f)"
   ]
  },
  {
   "cell_type": "code",
   "execution_count": 8,
   "metadata": {},
   "outputs": [
    {
     "name": "stderr",
     "output_type": "stream",
     "text": [
      "\u001b[32mProgress: 100%|█████████████████████████████████████████| Time: 0:02:30\u001b[39m\u001b[K\n"
     ]
    }
   ],
   "source": [
    "using CairoMakie\n",
    "using Trapz\n",
    "using ProgressMeter\n",
    "using Base.Threads\n",
    "\n",
    "include(\"src/cluster_synch.jl\")\n",
    "include(\"src/network_sol_analysis.jl\")\n",
    "\n",
    "N_d = 100\n",
    "N_realizations = 50\n",
    "d_sweep = range(0.005, 0.025, length=N_d)\n",
    "t_measurement = 300.0\n",
    "t_transient = 0.0\n",
    "cluster_synchs_short = zeros(N_realizations, N_d, 3)\n",
    "global_synchs_short = zeros(N_realizations, N_d)\n",
    "\n",
    "uni_clusters = unique(clusters)\n",
    "@showprogress for k in 1:N_d\n",
    "    σ = d_sweep[k]\n",
    "    for realization in 1:N_realizations\n",
    "        x_0 = zeros(2*N) + 0.0001 .* randn(2*N)\n",
    "        prob = ODEProblem((dx, x, params, t) -> coupled_fhn_eom!(dx, x, params[1], params[2], params[3], G, b, N), x_0, (0.0, t_transient + t_measurement), [a, eps, σ])\n",
    "        # alg = Tsit5()\n",
    "        sol = solve(prob; dtmax=0.5)\n",
    "        t_val, global_synch = synch_error_time_series(sol)\n",
    "        global_synchs_short[realization, k] = trapz(t_val[findfirst(t_val .> t_transient):end], global_synch[findfirst(t_val .> t_transient):end])/(t_measurement)\n",
    "        for (i, cluster) in enumerate(uni_clusters)\n",
    "            if isempty(cluster)\n",
    "                continue\n",
    "            else\n",
    "                if i .< length(uni_clusters) && !isempty(uni_clusters[i+1])\n",
    "                    cluster = setdiff(cluster[1], uni_clusters[i+1][1])\n",
    "                else\n",
    "                    cluster = cluster[1]\n",
    "                end\n",
    "                t_values, synch_error = local_synch_error(sol, cluster)\n",
    "                # cluster_synch_averages[k, i] += trapz(t_values[findfirst(t_values .> t_transient):end], synch_error[findfirst(t_values .> t_transient):end])/(t_measurement * N_realizations)\n",
    "                cluster_synchs_short[realization, k, i] = trapz(t_values[findfirst(t_values .> t_transient):end], synch_error[findfirst(t_values .> t_transient):end])/(t_measurement)\n",
    "            end\n",
    "        end\n",
    "    end\n",
    "end"
   ]
  },
  {
   "cell_type": "code",
   "execution_count": 26,
   "metadata": {},
   "outputs": [
    {
     "data": {
      "text/plain": [
       "CairoMakie.Screen{SVG}\n"
      ]
     },
     "metadata": {},
     "output_type": "display_data"
    }
   ],
   "source": [
    "global_synch_averages = mean(global_synchs_short, dims=1)[1, :]\n",
    "cluster_synch_averages = mean(cluster_synchs_short, dims=1)[1, :, :]\n",
    "cluster_synch_std = std(cluster_synchs, dims=1)[1, :, :]./sqrt(N_realizations)\n",
    "colors = [\"#020202\",\"#878F92\", \"#B20100\", \"#6C6C6C\",  \"#BE312B\", \"#F8F8F8\", \"#FFFFFF\"]\n",
    "f = Figure(size= (800, 600), backgroundcolor = (:transparent), fontsize=25)\n",
    "\n",
    "ax = Axis(f[1, 1], backgroundcolor = :transparent)\n",
    "ax.xlabel = \"σ\"\n",
    "ax.ylabel = \"Average Synch Error\"\n",
    "for i in 1:3\n",
    "    cluster = uni_clusters[i]\n",
    "    if i .< length(uni_clusters) && !isempty(uni_clusters[i+1])\n",
    "        cluster = setdiff(cluster[1], uni_clusters[i+1][1])\n",
    "    else\n",
    "        cluster = cluster[1]\n",
    "    end\n",
    "    lines!(ax, d_sweep, cluster_synch_averages[:, i]; label=\"Cluster $cluster\", color=colors[i])\n",
    "    fill_between!(ax, d_sweep, cluster_synch_averages[:, i] - cluster_synch_std[:, i],\n",
    "            cluster_synch_averages[:, i] + cluster_synch_std[:, i], color=(colors[i], 0.25))\n",
    "end\n",
    "lines!(ax, d_sweep, global_synch_averages; label=\"Global\", linestyle=:dash, color=:black)\n",
    "vlines!(ax, critical_couplings; label=\"Critical Couplings\", linewidth=1, color = :red, linestyle=:dash)\n",
    "axislegend()\n",
    "save(\"clusters_vs_coupling_short.svg\", f)"
   ]
  },
  {
   "cell_type": "code",
   "execution_count": 27,
   "metadata": {},
   "outputs": [
    {
     "data": {
      "image/png": "[encoded data removed]",
      "text/html": [
       "<img width=800 height=200 style='object-fit: contain;' src=\"data:image/png;base64, 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\"/>"
      ]
     },
     "metadata": {},
     "output_type": "display_data"
    }
   ],
   "source": [
    "include(\"src/network_sol_analysis.jl\")\n",
    "using GLMakie\n",
    "using LaTeXStrings\n",
    "\n",
    "f = Figure(size = (800, 200))\n",
    "ax = Axis(f[1, 1])\n",
    "ax.title = \"Kuramoto Order Parameter\"\n",
    "ax.xlabel = \"Time\"\n",
    "ax.ylabel = \"Kuramoto Order Parameter\"\n",
    "t_val, kuramoto_val = kuramoto_time_series(sol, N)\n",
    "lines!(ax, t_val, kuramoto_val)\n",
    "f"
   ]
  },
  {
   "cell_type": "markdown",
   "metadata": {},
   "source": [
    "### Now for a watts-strogatz matrix"
   ]
  },
  {
   "cell_type": "code",
   "execution_count": 11,
   "metadata": {},
   "outputs": [
    {
     "name": "stdout",
     "output_type": "stream",
     "text": [
      "Critical Couplings: [0.23291670718825966, 0.219068665352694, 0.16990144801436388, 0.14336456541029177, 0.13022529161073693, 0.11506651440881481, 0.11125835452843508, 0.10812209593159973, 0.0976348876510438, 0.0922208624033414, 0.07943817190991945, 0.07717074298950771, 0.07268297739185584, 0.07158261118012522, 0.06578746469849016, 0.06290840075558327, 0.06052104285906904, 0.06029578242504168, 0.05639550062581257, 0.05423517370822493, 0.05211711615310405, 0.05000901967708295, 0.049403570777850236, 0.0473610851158561, 0.04627265179900082, 0.044677269599756556, 0.04359444403328287, 0.043267679436640595, 0.041669376451379275, 0.041063585165608985, 0.04033193195854326, 0.039323557087221836, 0.0384541570377673, 0.038194599926912425, 0.03764689144167584, 0.036703595463259096, 0.03648568057786352, 0.03573423932563895, 0.0352740732648549, 0.03496976477283023, 0.034593763999270534, 0.033971886441022024, 0.0335646263852138, 0.033146307307043966, 0.03260236646830293, 0.03210901244082044, 0.03159238012284291, 0.03117458210340924, 0.031060562130257204, 0.030741994625753707, 0.030512944381175005, 0.030097953921278404, 0.029898008366770316, 0.029669877731386993, 0.029217271953740645, 0.028851647679080463, 0.02859110227574337, 0.028334733328632553, 0.02802600255618785, 0.02780734496194301, 0.027601851253143656, 0.02690768657055117, 0.02659206528590568, 0.026066869346874775, 0.02594729740810722, 0.02577718928677126, 0.025405532971815355, 0.02503224644092122, 0.024882790324106153, 0.024454409094369495, 0.024116963095357134, 0.023824777464233345, 0.023697763623788153, 0.02332583928356619, 0.0230121932246491, 0.022635320124740985, 0.022517571717932856, 0.022016338458741812, 0.02185060372695825, 0.021569026848925407, 0.021375359524022176, 0.020989330276466194, 0.020603007794859424, 0.020223434013778706, 0.019749635056133964, 0.0194547334217923, 0.019036059587974767, 0.01893064303516389, 0.017956653119294678]\n",
      "Eigenvalues: [0.87429901, 0.92956629, 1.1985704, 1.42042663, 1.56374268, 1.76974898, 1.83032409, 1.88341564, 2.08571804, 2.20816463, 2.56348858, 2.63880894, 2.80174057, 2.84480886, 3.09540499, 3.2370692, 3.36476103, 3.37733152, 3.61090591, 3.75473761, 3.90733144, 4.07204236, 4.12194591, 4.29970821, 4.40084669, 4.55799668, 4.671211, 4.70648875, 4.88701449, 4.95911026, 5.04907245, 5.17854593, 5.29562633, 5.33161355, 5.40918091, 5.54819886, 5.58133611, 5.69870383, 5.77304597, 5.82328328, 5.88657674, 5.99433437, 6.06706728, 6.14363599, 6.24613697, 6.34210868, 6.44582161, 6.53220774, 6.55618677, 6.62412602, 6.67385107, 6.7658701, 6.81111745, 6.86348789, 6.96981042, 7.05813577, 7.12245525, 7.18689829, 7.26606822, 7.32320352, 7.37772422, 7.5680548, 7.65788006, 7.81217122, 7.84817175, 7.89996319, 8.01553137, 8.13506079, 8.18392326, 8.32728551, 8.44380139, 8.54735566, 8.59316726, 8.73018304, 8.84917159, 8.99650835, 9.0435527, 9.24944204, 9.31959817, 9.4412626, 9.52680334, 9.70201735, 9.88393775, 10.06944945, 10.3110182, 10.46731621, 10.69753147, 10.75710139, 11.34057918]\n",
      "clusters: Any[[[1, 2, 3, 4, 5, 6, 7, 8, 9, 10, 11, 12, 13, 14, 15, 16, 17, 18, 19, 20, 21, 22, 23, 24, 25, 26, 27, 28, 29, 30, 31, 32, 33, 34, 35, 36, 37, 38, 39, 40, 41, 42, 43, 44, 45, 46, 47, 48, 49, 50, 51, 52, 53, 54, 55, 56, 57, 58, 59, 60, 61, 62, 63, 64, 65, 66, 67, 68, 69, 70, 71, 72, 73, 74, 75, 76, 77, 78, 79, 80, 81, 82, 83, 84, 85, 86, 87, 88, 89, 90]], [[1, 2, 3, 4, 5, 6, 7, 8, 9, 10, 11, 12, 13, 14, 15, 16, 17, 18, 19, 20, 21, 22, 23, 24, 25, 26, 27, 28, 29, 30, 31, 32, 33, 34, 35, 36, 37, 38, 39, 40, 41, 42, 43, 44, 45, 46, 47, 48, 49, 50, 51, 52, 53, 54, 55, 56, 57, 58, 59, 60, 61, 62, 63, 64, 65, 66, 67, 68, 69, 70, 71, 72, 73, 74, 75, 76, 77, 78, 79, 80, 81, 82, 83, 84, 85, 86, 87, 88, 89, 90]], [[1, 73], [20, 21], [26, 42], [36, 48], [53, 83]], Vector{Int64}[], Vector{Int64}[], Vector{Int64}[], Vector{Int64}[], Vector{Int64}[], Vector{Int64}[], Vector{Int64}[], Vector{Int64}[], Vector{Int64}[], Vector{Int64}[], Vector{Int64}[], Vector{Int64}[], Vector{Int64}[], Vector{Int64}[], Vector{Int64}[], Vector{Int64}[], Vector{Int64}[], Vector{Int64}[], Vector{Int64}[], Vector{Int64}[], Vector{Int64}[], Vector{Int64}[], Vector{Int64}[], Vector{Int64}[], Vector{Int64}[], Vector{Int64}[], Vector{Int64}[], Vector{Int64}[], Vector{Int64}[], Vector{Int64}[], Vector{Int64}[], Vector{Int64}[], Vector{Int64}[], Vector{Int64}[], Vector{Int64}[], Vector{Int64}[], Vector{Int64}[], Vector{Int64}[], Vector{Int64}[], Vector{Int64}[], Vector{Int64}[], Vector{Int64}[], Vector{Int64}[], Vector{Int64}[], Vector{Int64}[], Vector{Int64}[], Vector{Int64}[], Vector{Int64}[], Vector{Int64}[], Vector{Int64}[], Vector{Int64}[], Vector{Int64}[], Vector{Int64}[], Vector{Int64}[], Vector{Int64}[], Vector{Int64}[], Vector{Int64}[], Vector{Int64}[], Vector{Int64}[], Vector{Int64}[], Vector{Int64}[], Vector{Int64}[], Vector{Int64}[], Vector{Int64}[], Vector{Int64}[], Vector{Int64}[], Vector{Int64}[], Vector{Int64}[], Vector{Int64}[], Vector{Int64}[], Vector{Int64}[], Vector{Int64}[], Vector{Int64}[], Vector{Int64}[], Vector{Int64}[], Vector{Int64}[], Vector{Int64}[], Vector{Int64}[], Vector{Int64}[], Vector{Int64}[], Vector{Int64}[], Vector{Int64}[], Vector{Int64}[], Vector{Int64}[], Vector{Int64}[], Vector{Int64}[], Vector{Int64}[]]\n",
      "len_clusters: 90\n"
     ]
    },
    {
     "data": {
      "text/plain": [
       "0.07"
      ]
     },
     "metadata": {},
     "output_type": "display_data"
    }
   ],
   "source": [
    "include(\"src/network_matrices_creation.jl\")\n",
    "include(\"src/cluster_synch.jl\")\n",
    "include(\"src/network_simulation.jl\")\n",
    "\n",
    "N = 90\n",
    "eps = 0.05\n",
    "a = 0.5\n",
    "b = bmatrix(pi/2-0.1, eps)\n",
    "G = wattsstrogatzmatrix(N, 3, 0.3);\n",
    "eigenvalues, eigenvectors, clusters, s_matrices = s_matrix_method(G)\n",
    "eigenvalues = unique(round.(eigenvalues, digits=8))[2:end]\n",
    "critical_couplings = zero_msf./eigenvalues #unique(zero_msf./eigenvalues)[2:end]#\n",
    "println(\"Critical Couplings: \", critical_couplings)\n",
    "println(\"Eigenvalues: \", eigenvalues)\n",
    "println(\"clusters: \", clusters)\n",
    "println(\"len_clusters: \", length(clusters))\n",
    "σ = 0.07"
   ]
  },
  {
   "cell_type": "code",
   "execution_count": null,
   "metadata": {},
   "outputs": [],
   "source": [
    "include(\"src/network_simulation.jl\")\n",
    "using Random\n",
    "σ = critical_couplings[5]*1.01\n",
    "println(\"σ = \", σ)\n",
    "x_0 = zeros(2*N)\n",
    "x_0[2 .* (1:N) .- 1] = rand(N) .* 2 .* a .- a\n",
    "x_0[2 .* (1:N)] = rand(N) .* 2 .* (-a + a^3 / 3) .- (-a + a^3 / 3)\n",
    "prob = ODEProblem((dx, x, params, t) -> coupled_fhn_eom!(dx, x, params[1], params[2], params[3], G, b), x_0, (0.0, 1000.0), [a, eps, σ])\n",
    "sol = solve(prob; dtmax=0.9);"
   ]
  },
  {
   "cell_type": "code",
   "execution_count": null,
   "metadata": {},
   "outputs": [],
   "source": [
    "include(\"src/network_sol_analysis.jl\")\n",
    "st_plot(sol, 150, 300;skip_every=1)"
   ]
  },
  {
   "cell_type": "markdown",
   "metadata": {},
   "source": [
    "# Figure creation"
   ]
  },
  {
   "cell_type": "code",
   "execution_count": 4,
   "metadata": {},
   "outputs": [
    {
     "data": {
      "text/plain": [
       "GLMakie.Screen(...)"
      ]
     },
     "metadata": {},
     "output_type": "display_data"
    }
   ],
   "source": [
    "# using CairoMakie\n",
    "using GLMakie\n",
    "using Serialization\n",
    "using Statistics\n",
    "\n",
    "ws_forward = deserialize(\"ws_sweep_data/forward_array\")\n",
    "ws_backward = deserialize(\"ws_sweep_data/backward_array\")\n",
    "ws_forward_d_sweep = deserialize(\"ws_sweep_data/forward_d_sweep\")[5:end-5]\n",
    "ws_backward_d_sweep = deserialize(\"ws_sweep_data/backward_d_sweep\")[5:end-5]\n",
    "ws_forward_avg = mean(ws_forward, dims=1)[1, 5:end-5]\n",
    "ws_backward_avg = mean(ws_backward, dims=1)[1, 5:end-5]\n",
    "ws_forward_std = std(ws_forward, dims=1)[1, 5:end-5]./sqrt(length(ws_forward[:, 1]))\n",
    "ws_backward_std = std(ws_backward, dims=1)[1, 5:end-5]./sqrt(length(ws_forward[:, 1]))\n",
    "\n",
    "colors = [\"#878F92\", \"#B20100\"]\n",
    "# f = Figure(size = (700, 500), backgroundcolor = (:transparent), fontsize=25)\n",
    "f = Figure(size = (700, 500))\n",
    "ax = Axis(f[1, 1], backgroundcolor = :transparent)\n",
    "ax.xlabel = \"σ\"\n",
    "ax.ylabel = \"Kuramoto Order Parameter\"\n",
    "lines!(ax, ws_forward_d_sweep, ws_forward_avg; label=\"Decreasing coupling strength\", color=colors[1])\n",
    "lines!(ax, ws_backward_d_sweep, ws_backward_avg; label=\"Increasing coupling strength\", color=colors[2])\n",
    "fill_between!(ax, ws_forward_d_sweep, ws_forward_avg - ws_forward_std, ws_forward_avg + ws_forward_std, color=(colors[1], 0.25))\n",
    "fill_between!(ax, ws_backward_d_sweep, ws_backward_avg - ws_backward_std, ws_backward_avg + ws_backward_std, color=(colors[2], 0.25))\n",
    "axislegend(position=:rb)\n",
    "# save(\"ws_adiabatic.svg\", f)\n",
    "# include(\"src/network_matrices_creation.jl\")\n",
    "# include(\"src/cluster_synch.jl\")\n",
    "# include(\"src/msf.jl\")\n",
    "# zero_msf = msf_zero()\n",
    "# critical_couplings = zeros(89)\n",
    "# for i in 1:100\n",
    "#     G = wattsstrogatzmatrix(90, 3, 1)\n",
    "#     eigenvalues, eigenvectors, clusters, s_matrices = s_matrix_method(G)\n",
    "#     non_zero_eigvals = eigenvalues[2:end]\n",
    "#     critical_couplings .+= zero_msf./non_zero_eigvals\n",
    "# end\n",
    "# critical_couplings ./= 100\n",
    "\n",
    "# vlines!(ax, critical_couplings, label=\"Critical Couplings\", linewidth=1, color = :red, linestyle=:dash)\n",
    "display(f)\n",
    "\n",
    "\n"
   ]
  },
  {
   "cell_type": "code",
   "execution_count": 8,
   "metadata": {},
   "outputs": [
    {
     "data": {
      "text/plain": [
       "\"ws_backward_d_sweep.csv\""
      ]
     },
     "metadata": {},
     "output_type": "display_data"
    }
   ],
   "source": [
    "using CSV, DataFrames\n",
    "\n",
    "forward_df = DataFrame(\"Forward d sweep\" => ws_forward_d_sweep, \"Corresponding averaged value\" => ws_forward_avg, \"Corresponding standard deviation\" => ws_forward_std)\n",
    "CSV.write(\"ws_forward_d_sweep.csv\", forward_df)\n",
    "\n",
    "backward_df = DataFrame(\"Backward d sweep\" => ws_backward_d_sweep, \"Corresponding averaged value\" => ws_backward_avg, \"Corresponding standard deviation\" => ws_backward_std)\n",
    "CSV.write(\"ws_backward_d_sweep.csv\", backward_df)\n"
   ]
  },
  {
   "cell_type": "code",
   "execution_count": null,
   "metadata": {},
   "outputs": [],
   "source": [
    "using CairoMakie\n",
    "using Serialization\n",
    "using Statistics\n",
    "\n",
    "cluster_forward = deserialize(\"cluster_sweep_data/cluster_forward\")\n",
    "cluster_backward = deserialize(\"cluster_sweep_data/cluster_backward\")\n",
    "forward_d_sweep = deserialize(\"cluster_sweep_data/forward_d_sweep\")\n",
    "backward_d_sweep = deserialize(\"cluster_sweep_data/backward_d_sweep\")\n",
    "global_forward = deserialize(\"cluster_sweep_data/global_forward\")\n",
    "global_backward = deserialize(\"cluster_sweep_data/global_backward\")\n",
    "\n",
    "global_forward_avg = mean(global_forward, dims=1)[1, :]\n",
    "global_backward_avg = mean(global_backward, dims=1)[1, :]\n",
    "cluster_forward_avg = mean(cluster_forward, dims=1)[1, :, :]\n",
    "cluster_backward_avg = mean(cluster_backward, dims=1)[1, :, :]\n",
    "\n",
    "global_forward_std = std(global_forward, dims=1)[1, :]./sqrt(length(global_forward[:, 1]))\n",
    "global_backward_std = std(global_backward, dims=1)[1, :]./sqrt(length(global_backward[:, 1]))\n",
    "cluster_forward_std = std(cluster_forward, dims=1)[1, :, :]./sqrt(length(cluster_forward[:, 1, 1]))\n",
    "cluster_backward_std = std(cluster_backward, dims=1)[1, :, :]./sqrt(length(cluster_backward[:, 1, 1]))\n",
    "\n",
    "critical_couplings = [0.020373021436669875, 0.011984130256864633, 0.009701438779366607]\n",
    "unique_clusters =  [[1, 2, 3],\n",
    "[4, 5, 6],\n",
    "[7, 8, 9, 10]]\n",
    "colors = [\"#020202\", \"#878F92\", \"#B20100\", \"#6C6C6C\",  \"#BE312B\", \"#F8F8F8\", \"#FFFFFF\"]\n",
    "\n",
    "f = Figure(size = (1800, 600), backgroundcolor = (:transparent), fontsize=25)\n",
    "\n",
    "\n",
    "for i in 1:length(unique_clusters)\n",
    "    cluster = unique_clusters[i]\n",
    "    if i ==1\n",
    "        global new_ax = Axis(f[1, i], backgroundcolor = :transparent)\n",
    "    else\n",
    "        global new_ax = Axis(f[1, i], backgroundcolor = :transparent)\n",
    "    end\n",
    "    new_ax.title = \"Cluster $cluster\"\n",
    "    new_ax.xlabel = \"σ\"\n",
    "    new_ax.ylabel = \"Average Normalized Synch Error\"\n",
    "    lines!(new_ax, forward_d_sweep[5:end-5], cluster_forward_avg[5:end-5, i]./maximum(cluster_forward_avg[5:end-5, i]), color=colors[3], label=\"Cluster Decreasing\") # 6000 timesteps for thermalization\n",
    "    lines!(new_ax, backward_d_sweep[5:end-5], cluster_backward_avg[5:end-5, i]./maximum(cluster_backward_avg[5:end-5, i]), color=colors[2], label=\"Cluster Increasing\")\n",
    "    lines!(new_ax, forward_d_sweep[5:end-5], global_forward_avg[5:end-5]./maximum(global_forward_avg[5:end-5]), color=colors[1],linestyle = :dash, label=\"Entire Network Decreasing\") # 5000 timesteps for thermalization\n",
    "    lines!(new_ax, backward_d_sweep[5:end-5], global_backward_avg[5:end-5]./maximum(global_backward_avg[5:end-5]), color=colors[4],linestyle=:dash, label=\"Entire Network Increasing\")\n",
    "    fill_between!(new_ax, forward_d_sweep[5:end-5], cluster_forward_avg[5:end-5, i]./maximum(cluster_forward_avg[5:end-5, i]) - cluster_forward_std[5:end-5, i]./maximum(cluster_forward_avg[5:end-5, i]),\n",
    "            cluster_forward_avg[5:end-5, i]./maximum(cluster_forward_avg[5:end-5, i]) + cluster_forward_std[5:end-5, i]./maximum(cluster_forward_avg[5:end-5, i]), color=(colors[3], 0.25))\n",
    "    fill_between!(new_ax, backward_d_sweep[5:end-5], cluster_backward_avg[5:end-5, i]./maximum(cluster_backward_avg[5:end-5, i]) - cluster_backward_std[5:end-5, i]./maximum(cluster_backward_avg[5:end-5, i]),\n",
    "            cluster_backward_avg[5:end-5, i]./maximum(cluster_backward_avg[5:end-5, i]) + cluster_backward_std[5:end-5, i]./maximum(cluster_backward_avg[5:end-5, i]), color=(colors[2], 0.25))\n",
    "    fill_between!(new_ax, forward_d_sweep[5:end-5], global_forward_avg[5:end-5]./maximum(global_forward_avg[5:end-5]) - global_forward_std[5:end-5]./maximum(global_forward_avg[5:end-5]),\n",
    "            global_forward_avg[5:end-5]./maximum(global_forward_avg[5:end-5]) + global_forward_std[5:end-5]./maximum(global_forward_avg[5:end-5]), color=(colors[1], 0.25))\n",
    "    fill_between!(new_ax, backward_d_sweep[5:end-5], global_backward_avg[5:end-5]./maximum(global_backward_avg[5:end-5]) - global_backward_std[5:end-5]./maximum(global_backward_avg[5:end-5]),\n",
    "            global_backward_avg[5:end-5]./maximum(global_backward_avg[5:end-5]) + global_backward_std[5:end-5]./maximum(global_backward_avg[5:end-5]), color=(colors[4], 0.25))\n",
    "    \n",
    "    vlines!(new_ax, critical_couplings[1:3]; label=\"Critical Couplings\", linestyle=:dash, color = :red)\n",
    "    axislegend(new_ax, position=:rt)\n",
    "end\n",
    "save(\"clusters_adiabatic_sweep.svg\", f)\n",
    "f\n"
   ]
  },
  {
   "cell_type": "markdown",
   "metadata": {},
   "source": [
    "# Test for epsilon = 1.0\n"
   ]
  },
  {
   "cell_type": "code",
   "execution_count": null,
   "metadata": {},
   "outputs": [],
   "source": [
    "include(\"src/msf.jl\")\n",
    "eps = 0.05\n",
    "phi = pi/2-0.1\n",
    "zero_msf = msf_zero(eps=eps, phi=phi)\n",
    "println(\"zero_msf = \", zero_msf)\n",
    "println(\"msf = \", master_stability_function(zero_msf, 0, eps=eps, phi=phi))"
   ]
  },
  {
   "cell_type": "code",
   "execution_count": null,
   "metadata": {},
   "outputs": [],
   "source": [
    "include(\"src/network_matrices_creation.jl\")\n",
    "include(\"src/cluster_synch.jl\")\n",
    "include(\"src/network_simulation.jl\")\n",
    "\n",
    "N = 10\n",
    "a = 0.5\n",
    "b = bmatrix(phi, eps)\n",
    "G = test_matrix_for_cluster_synch();\n",
    "eigenvalues, eigenvectors, clusters, s_matrices = s_matrix_method(G)\n",
    "eigenvalues = unique(round.(eigenvalues, digits=8))[2:end]\n",
    "critical_couplings = zero_msf./eigenvalues #unique(zero_msf./eigenvalues)[2:end]#\n",
    "println(\"Critical Couplings: \", critical_couplings)\n",
    "println(\"Eigenvalues: \", eigenvalues)\n",
    "σ = critical_couplings[3]*01.1\n"
   ]
  },
  {
   "cell_type": "code",
   "execution_count": null,
   "metadata": {},
   "outputs": [],
   "source": [
    "include(\"src/network_simulation.jl\")\n",
    "using Random\n",
    "x_0 = zeros(2*N) + 0.0001.*randn(2*N)\n",
    "# x_0[2 .* (1:N) .- 1] = rand(N) .* 2 .* a .- a\n",
    "# x_0[2 .* (1:N)] = rand(N) .* 2 .* (-a + a^3 / 3) .- (-a + a^3 / 3)\n",
    "prob = ODEProblem((dx, x, params, t) -> coupled_fhn_eom!(dx, x, params[1], params[2], params[3], G, b, N), x_0, (0.0, 100000.0), [a, eps, σ])\n",
    "sol = solve(prob; dtmax=0.9, maxiters=1e8);"
   ]
  },
  {
   "cell_type": "code",
   "execution_count": null,
   "metadata": {},
   "outputs": [],
   "source": [
    "using GLMakie\n",
    "CairoMakie.activate!(type = \"svg\")\n",
    "include(\"src/cluster_synch.jl\")\n",
    "include(\"src/network_sol_analysis.jl\")\n",
    "\n",
    "colors = [\"#020202\",\"#878F92\", \"#B20100\", \"#6C6C6C\",  \"#BE312B\", \"#F8F8F8\", \"#FFFFFF\"]\n",
    "f = Figure(size= (900, 600), backgroundcolor = (:transparent), fontsize = 25)\n",
    "uni_clusters = unique(clusters)\n",
    "for (i, cluster) in enumerate(uni_clusters)\n",
    "    if isempty(cluster)\n",
    "        continue\n",
    "    else\n",
    "        if i .< length(uni_clusters) && !isempty(uni_clusters[i+1])\n",
    "            cluster = setdiff(cluster[1], uni_clusters[i+1][1])\n",
    "        else\n",
    "            cluster = cluster[1]\n",
    "        end\n",
    "        println(\"Cluster $i: $cluster\")\n",
    "\n",
    "        ax = Axis(f[i, 1], backgroundcolor = :transparent)\n",
    "        ax.xlabel = \"Time\"\n",
    "        ax.ylabel = \"Synch Error\"\n",
    "        t_values, synch_error = local_synch_error(sol, cluster)\n",
    "        lines!(ax, t_values, synch_error; label=\"Neurons $cluster\", linewidth=1, color = colors[i])\n",
    "        axislegend()\n",
    "    end\n",
    "end\n",
    "display(f)"
   ]
  },
  {
   "cell_type": "code",
   "execution_count": null,
   "metadata": {},
   "outputs": [],
   "source": [
    "lines(sol.t[1:1000], sol[1, 1:1000])"
   ]
  },
  {
   "cell_type": "markdown",
   "metadata": {},
   "source": [
    "# Creating phase space plots for a Watts-Strogatz network"
   ]
  },
  {
   "cell_type": "markdown",
   "metadata": {},
   "source": [
    "### Simulating the network:"
   ]
  },
  {
   "cell_type": "code",
   "execution_count": 13,
   "metadata": {},
   "outputs": [],
   "source": [
    "include(\"src/network_matrices_creation.jl\")\n",
    "include(\"src/network_simulation.jl\")\n",
    "include(\"src/network_sol_analysis.jl\")\n",
    "using GLMakie\n",
    "using LaTeXStrings\n",
    "using Random\n",
    "using BenchmarkTools\n",
    "\n",
    "N = 90\n",
    "eps = 0.05\n",
    "a = 0.5\n",
    "b = bmatrix(pi/2-0.1, eps)\n",
    "σ = 0.07\n",
    "G = wattsstrogatzmatrix(N, 3, 1) .* 1.0\n",
    "\n",
    "x_0 = zeros(2*N) + 0.1.*randn(2*N)\n",
    "# x_0[2 .* (1:N) .- 1] = rand(N) .* 2 .* a .- a\n",
    "# x_0[2 .* (1:N)] = rand(N) .* 2 .* (-a + a^3 / 3) .- (-a + a^3 / 3)\n",
    "prob = ODEProblem((dx, x, params, t) -> coupled_fhn_eom!(dx, x, params[1], params[2], params[3], G, b, N), x_0, (0.0, 1000.0), [a, eps, σ])\n",
    "sol = solve(prob, dtmax=0.01);\n"
   ]
  },
  {
   "cell_type": "markdown",
   "metadata": {},
   "source": [
    "### FIgure creation:"
   ]
  },
  {
   "cell_type": "code",
   "execution_count": 14,
   "metadata": {},
   "outputs": [
    {
     "ename": "InterruptException",
     "evalue": "InterruptException:",
     "output_type": "error",
     "traceback": [
      "InterruptException:\n",
      "\n",
      "Stacktrace:\n",
      "  [1] texelems_and_glyph_collection(str::LaTeXString, fontscale_px::Float32, halign::Symbol, valign::Symbol, rotation::Quaternionf, color::ColorTypes.RGBA{Float32}, strokecolor::ColorTypes.RGBA{Float32}, strokewidth::Int64, word_wrap_width::Int64)\n",
      "    @ Makie ~/.julia/packages/Makie/fyNiH/src/basic_recipes/text.jl:249\n",
      "  [2] _get_glyphcollection_and_linesegments(latexstring::LaTeXString, index::Int64, ts::Float32, f::FreeTypeAbstraction.FTFont, fs::Attributes, al::Tuple{Symbol, Symbol}, rot::Quaternionf, jus::MakieCore.Automatic, lh::Float64, col::ColorTypes.RGBA{Float32}, scol::ColorTypes.RGBA{Float32}, swi::Int64, www::Int64, offs::Vec{2, Float32})\n",
      "    @ Makie ~/.julia/packages/Makie/fyNiH/src/basic_recipes/text.jl:98\n",
      "  [3] (::Makie.var\"#push_args#2208\"{Vector{Int64}, Vector{ColorTypes.RGBA{Float32}}, Vector{Float32}, Vector{Point{2, Float32}}, Vector{Makie.GlyphCollection}})(::LaTeXString, ::Vararg{Any})\n",
      "    @ Makie ~/.julia/packages/Makie/fyNiH/src/basic_recipes/text.jl:34\n",
      "  [4] (::Makie.var\"#2204#2207\"{Base.RefValue{Vector{Int64}}, Observable{Vector{ColorTypes.RGBA{Float32}}}, Observable{Vector{Float32}}, Observable{Vector{Point{2, Float32}}}, Observable{Vector{Makie.GlyphCollection}}})(str::LaTeXString, ts::Int64, f::Symbol, fs::Attributes, al::Tuple{Symbol, Symbol}, rot::Float32, jus::MakieCore.Automatic, lh::Float64, col::ColorTypes.RGBA{Float32}, scol::Tuple{Symbol, Float64}, swi::Int64, www::Int64, offs::Tuple{Float64, Float64})\n",
      "    @ Makie ~/.julia/packages/Makie/fyNiH/src/basic_recipes/text.jl:50\n",
      "  [5] invokelatest(::Any, ::Any, ::Vararg{Any}; kwargs::@Kwargs{})\n",
      "    @ Base ./essentials.jl:887\n",
      "  [6] invokelatest(::Any, ::Any, ::Vararg{Any})\n",
      "    @ Base ./essentials.jl:884\n",
      "  [7] (::Observables.OnAny)(value::Any)\n",
      "    @ Observables ~/.julia/packages/Observables/YdEbO/src/Observables.jl:420\n",
      "  [8] #invokelatest#2\n",
      "    @ Base ./essentials.jl:887 [inlined]\n",
      "  [9] invokelatest\n",
      "    @ Base ./essentials.jl:884 [inlined]\n",
      " [10] notify\n",
      "    @ Observables ~/.julia/packages/Observables/YdEbO/src/Observables.jl:206 [inlined]\n",
      " [11] setindex!(observable::Observable, val::Any)\n",
      "    @ Observables ~/.julia/packages/Observables/YdEbO/src/Observables.jl:123\n",
      " [12] setproperty!(x::Axis3, key::Symbol, value::LaTeXString)\n",
      "    @ Makie ~/.julia/packages/Makie/fyNiH/src/makielayout/blocks.jl:460\n",
      " [13] eval\n",
      "    @ ./boot.jl:385 [inlined]\n",
      " [14] include_string(mapexpr::typeof(REPL.softscope), mod::Module, code::String, filename::String)\n",
      "    @ Base ./loading.jl:2070\n",
      " [15] #invokelatest#2\n",
      "    @ ./essentials.jl:887 [inlined]\n",
      " [16] invokelatest\n",
      "    @ ./essentials.jl:884 [inlined]\n",
      " [17] (::VSCodeServer.var\"#217#218\"{VSCodeServer.NotebookRunCellArguments, String})()\n",
      "    @ VSCodeServer ~/.vscode-insiders/extensions/julialang.language-julia-1.127.2/scripts/packages/VSCodeServer/src/serve_notebook.jl:24\n",
      " [18] withpath(f::VSCodeServer.var\"#217#218\"{VSCodeServer.NotebookRunCellArguments, String}, path::String)\n",
      "    @ VSCodeServer ~/.vscode-insiders/extensions/julialang.language-julia-1.127.2/scripts/packages/VSCodeServer/src/repl.jl:276\n",
      " [19] notebook_runcell_request(conn::VSCodeServer.JSONRPC.JSONRPCEndpoint{Base.PipeEndpoint, Base.PipeEndpoint}, params::VSCodeServer.NotebookRunCellArguments)\n",
      "    @ VSCodeServer ~/.vscode-insiders/extensions/julialang.language-julia-1.127.2/scripts/packages/VSCodeServer/src/serve_notebook.jl:13\n",
      " [20] dispatch_msg(x::VSCodeServer.JSONRPC.JSONRPCEndpoint{Base.PipeEndpoint, Base.PipeEndpoint}, dispatcher::VSCodeServer.JSONRPC.MsgDispatcher, msg::Dict{String, Any})\n",
      "    @ VSCodeServer.JSONRPC ~/.vscode-insiders/extensions/julialang.language-julia-1.127.2/scripts/packages/JSONRPC/src/typed.jl:67\n",
      " [21] serve_notebook(pipename::String, debugger_pipename::String, outputchannel_logger::Base.CoreLogging.SimpleLogger; error_handler::var\"#5#10\"{String})\n",
      "    @ VSCodeServer ~/.vscode-insiders/extensions/julialang.language-julia-1.127.2/scripts/packages/VSCodeServer/src/serve_notebook.jl:147\n",
      " [22] top-level scope\n",
      "    @ ~/.vscode-insiders/extensions/julialang.language-julia-1.127.2/scripts/notebook/notebook.jl:35"
     ]
    }
   ],
   "source": [
    "f = Figure(size = (600, 600), fontsize=25)\n",
    "ax = Axis3(f[1, 1])\n",
    "x, y, z = sol[1, 10000:end], sol[2, 10000:end], sol[3, 10000:end]\n",
    "lines!(ax,  x, y, z)\n",
    "xs = LinRange(minimum(sol[1, :]), maximum(sol[1, :]), 10)\n",
    "ys = LinRange(minimum(sol[2, :]), maximum(sol[2, :]), 10)\n",
    "zs = [x for x in xs, y in ys]\n",
    "surface!(ax, xs, ys, zs, alpha=0.4, colorscale=x -> 1)\n",
    "ax.xlabel = L\"$u_1$\"\n",
    "ax.ylabel = L\"$v_1$\"\n",
    "ax.zlabel = L\"$u_2$\"\n",
    "\n",
    "angles = LinRange(0, 2π, 100)\n",
    "perspective = sin.(angles).^2\n",
    "framerate = 30\n",
    "record(f, \"test_anim.gif\", angles;\n",
    "        framerate = framerate) do angle\n",
    "    ax.perspectiveness = perspective[findfirst(angles .≈ angle)]\n",
    "    ax.azimuth = angle\n",
    "end\n"
   ]
  },
  {
   "cell_type": "code",
   "execution_count": null,
   "metadata": {},
   "outputs": [],
   "source": [
    "include(\"src/network_sol_analysis.jl\")\n",
    "u_avg = mean(sol[1:2:2*N, 10000:end], dims=1)[1, :]\n",
    "v_avg = mean(sol[2:2:2*N, 10000:end], dims=1)[1, :]\n",
    "synch_error= synch_error_time_series(sol)[2][10000:end]\n",
    "# function distance_to_synch_manifold(vector)\n",
    "#     synch_component = ones(N)./sqrt(N)\n",
    "#     u = vector[1:2:2*N]\n",
    "#     v = vector[2:2:2*N]\n",
    "#     u_norm_of_component_in_manifold = dot(synch_component, u)^2\n",
    "#     v_norm_of_component_in_manifold = dot(synch_component, v)^2\n",
    "#     return sqrt(norm(u)^2 - u_norm_of_component_in_manifold + norm(v)^2 - v_norm_of_component_in_manifold)\n",
    "# end\n",
    "\n",
    "# d_transverse = zeros(length(u_avg))\n",
    "# for i in length(u_avg)\n",
    "#     d_transverse[i] = distance_to_synch_manifold(sol[:, 10000+i-1])\n",
    "# end\n",
    "\n",
    "f = Figure(size = (800, 800), fontsize=25)\n",
    "ax = Axis3(f[1, 1])\n",
    "zlims!(ax, 0, 2)\n",
    "lines!(ax, u_avg, v_avg, synch_error)\n",
    "\n",
    "ax.xlabel = L\"$\\langle u \\rangle$\"\n",
    "ax.ylabel = L\"$\\langle v \\rangle$\"\n",
    "ax.zlabel = L\"\\langle E_S \\rangle\"\n",
    "f"
   ]
  },
  {
   "cell_type": "code",
   "execution_count": null,
   "metadata": {},
   "outputs": [],
   "source": [
    "using GLMakie # All functionality is defined in Makie and every backend re-exports Makie\n",
    "\n",
    "points = Observable(Point3f[]) # Signal that can be used to update plots efficiently\n",
    "colors = Observable(Int[])\n",
    "\n",
    "set_theme!(theme_black())\n",
    "\n",
    "fig, ax, l = lines(points, color = colors, colormap = :inferno, transparency = true, axis = (; type = Axis3, viewmode = :fit, limits = (-2.2, 2.2, -1.1, 1.1, -2.2, 2.2)))\n",
    "\n",
    "ax.xlabel = L\"$u_1$\"\n",
    "ax.ylabel = L\"$v_1$\"\n",
    "ax.zlabel = L\"$u_2$\"\n",
    "              \n",
    "\n",
    "x, y, z = sol[1, 10000:end], sol[2, 10000:end], sol[3, 10000:end]\n",
    "len_x = length(x)\n",
    "println(len_x)\n",
    "final_frame = 10000\n",
    "trail = 250\n",
    "skip_every = 5\n",
    "record(fig, \"phase_space.mp4\", 1:skip_every:final_frame; framerate=60) do frame\n",
    "    for i in 1:skip_every\n",
    "        push!(points[], Point3f(x[frame+i], y[frame+i], z[frame+i]))\n",
    "        push!(colors[], frame)\n",
    "    end\n",
    "    ax.azimuth[] = 2pi * frame/final_frame # set the view angle of the axis\n",
    "    if frame > trail*skip_every\n",
    "        for i in 1:skip_every\n",
    "            popfirst!(points[])\n",
    "            popfirst!(colors[])\n",
    "        end\n",
    "    end\n",
    "    notify(points); notify(colors) # tell points and colors that their value has been updated\n",
    "    l.colorrange = (frame-trail*skip_every, frame) # update plot attribute directly\n",
    "end"
   ]
  },
  {
   "cell_type": "markdown",
   "metadata": {},
   "source": [
    "# Testing the method described by Fu et. al. (2012) (Synchronous patterns in complex systems)"
   ]
  },
  {
   "cell_type": "markdown",
   "metadata": {},
   "source": [
    "### First, we test with a simulation of a fixed WS network"
   ]
  },
  {
   "cell_type": "code",
   "execution_count": 18,
   "metadata": {},
   "outputs": [],
   "source": [
    "G = wattsstrogatzmatrix(N, 3, 1) .* 1.0;\n"
   ]
  },
  {
   "cell_type": "code",
   "execution_count": null,
   "metadata": {},
   "outputs": [],
   "source": [
    "include(\"src/network_matrices_creation.jl\")\n",
    "include(\"src/network_simulation.jl\")\n",
    "include(\"src/network_sol_analysis.jl\")\n",
    "using GLMakie\n",
    "using LaTeXStrings\n",
    "using Random\n",
    "using BenchmarkTools\n",
    "\n",
    "N = 10\n",
    "eps = 0.05\n",
    "a = 0.5\n",
    "b = bmatrix(pi/2-0.1, eps)\n",
    "σ = 0.1718\n",
    "G = test_matrix_for_cluster_synch()\n",
    "\n",
    "x_0 = zeros(2*N) + 0.1.*randn(2*N)\n",
    "# x_0[2 .* (1:N) .- 1] = rand(N) .* 2 .* a .- a\n",
    "# x_0[2 .* (1:N)] = rand(N) .* 2 .* (-a + a^3 / 3) .- (-a + a^3 / 3)\n",
    "prob = ODEProblem((dx, x, params, t) -> coupled_fhn_eom!(dx, x, params[1], params[2], params[3], G, b, N), x_0, (0.0, 1000.0), [a, eps, σ])\n",
    "sol = solve(prob, dtmax=0.01);"
   ]
  },
  {
   "cell_type": "markdown",
   "metadata": {},
   "source": [
    "### Plot for the individual synchronization errors"
   ]
  },
  {
   "cell_type": "code",
   "execution_count": 25,
   "metadata": {},
   "outputs": [
    {
     "name": "stdout",
     "output_type": "stream",
     "text": []
    }
   ],
   "source": [
    "include(\"src/network_sol_analysis.jl\")\n",
    "using GLMakie\n",
    "using LaTeXStrings\n",
    "\n",
    "t, err = individual_synch_error_time_series(sol)\n",
    "\n",
    "f = Figure()\n",
    "ax = Axis(f[1, 1])\n",
    "ax.xlabel = \"Time\"\n",
    "ax.ylabel = \"Neuron\"\n",
    "heatmap!(ax, t[1:10:end], 1:90, err[1:10:end, :])\n",
    "f"
   ]
  }
 ],
 "metadata": {
  "kernelspec": {
   "display_name": "Julia 1.10.0",
   "language": "julia",
   "name": "julia-1.10"
  },
  "language_info": {
   "file_extension": ".jl",
   "mimetype": "application/julia",
   "name": "julia",
   "version": "1.10.0"
  }
 },
 "nbformat": 4,
 "nbformat_minor": 4
}
